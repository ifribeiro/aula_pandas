{
 "cells": [
  {
   "attachments": {},
   "cell_type": "markdown",
   "metadata": {},
   "source": [
    "Sumário\n",
    "\n",
    "- Leitura de bases de dados\n",
    "    - Localmente\n",
    "    - De uma URL"
   ]
  },
  {
   "cell_type": "code",
   "execution_count": 14,
   "metadata": {},
   "outputs": [],
   "source": [
    "import pandas as pd\n",
    "import numpy as np\n",
    "import matplotlib.pyplot as plt"
   ]
  },
  {
   "attachments": {},
   "cell_type": "markdown",
   "metadata": {},
   "source": [
    "# Leitura dos dados"
   ]
  },
  {
   "cell_type": "code",
   "execution_count": 14,
   "metadata": {},
   "outputs": [
    {
     "data": {
      "text/html": [
       "<div>\n",
       "<style scoped>\n",
       "    .dataframe tbody tr th:only-of-type {\n",
       "        vertical-align: middle;\n",
       "    }\n",
       "\n",
       "    .dataframe tbody tr th {\n",
       "        vertical-align: top;\n",
       "    }\n",
       "\n",
       "    .dataframe thead th {\n",
       "        text-align: right;\n",
       "    }\n",
       "</style>\n",
       "<table border=\"1\" class=\"dataframe\">\n",
       "  <thead>\n",
       "    <tr style=\"text-align: right;\">\n",
       "      <th></th>\n",
       "      <th>species</th>\n",
       "      <th>island</th>\n",
       "      <th>bill_length_mm</th>\n",
       "      <th>bill_depth_mm</th>\n",
       "      <th>flipper_length_mm</th>\n",
       "      <th>body_mass_g</th>\n",
       "      <th>sex</th>\n",
       "    </tr>\n",
       "  </thead>\n",
       "  <tbody>\n",
       "    <tr>\n",
       "      <th>0</th>\n",
       "      <td>Adelie</td>\n",
       "      <td>Torgersen</td>\n",
       "      <td>39.1</td>\n",
       "      <td>18.7</td>\n",
       "      <td>181.0</td>\n",
       "      <td>3750.0</td>\n",
       "      <td>MALE</td>\n",
       "    </tr>\n",
       "    <tr>\n",
       "      <th>1</th>\n",
       "      <td>Adelie</td>\n",
       "      <td>Torgersen</td>\n",
       "      <td>39.5</td>\n",
       "      <td>17.4</td>\n",
       "      <td>186.0</td>\n",
       "      <td>3800.0</td>\n",
       "      <td>FEMALE</td>\n",
       "    </tr>\n",
       "    <tr>\n",
       "      <th>2</th>\n",
       "      <td>Adelie</td>\n",
       "      <td>Torgersen</td>\n",
       "      <td>40.3</td>\n",
       "      <td>18.0</td>\n",
       "      <td>195.0</td>\n",
       "      <td>3250.0</td>\n",
       "      <td>FEMALE</td>\n",
       "    </tr>\n",
       "    <tr>\n",
       "      <th>3</th>\n",
       "      <td>Adelie</td>\n",
       "      <td>Torgersen</td>\n",
       "      <td>NaN</td>\n",
       "      <td>NaN</td>\n",
       "      <td>NaN</td>\n",
       "      <td>NaN</td>\n",
       "      <td>NaN</td>\n",
       "    </tr>\n",
       "    <tr>\n",
       "      <th>4</th>\n",
       "      <td>Adelie</td>\n",
       "      <td>Torgersen</td>\n",
       "      <td>36.7</td>\n",
       "      <td>19.3</td>\n",
       "      <td>193.0</td>\n",
       "      <td>3450.0</td>\n",
       "      <td>FEMALE</td>\n",
       "    </tr>\n",
       "  </tbody>\n",
       "</table>\n",
       "</div>"
      ],
      "text/plain": [
       "  species     island  bill_length_mm  bill_depth_mm  flipper_length_mm  \\\n",
       "0  Adelie  Torgersen            39.1           18.7              181.0   \n",
       "1  Adelie  Torgersen            39.5           17.4              186.0   \n",
       "2  Adelie  Torgersen            40.3           18.0              195.0   \n",
       "3  Adelie  Torgersen             NaN            NaN                NaN   \n",
       "4  Adelie  Torgersen            36.7           19.3              193.0   \n",
       "\n",
       "   body_mass_g     sex  \n",
       "0       3750.0    MALE  \n",
       "1       3800.0  FEMALE  \n",
       "2       3250.0  FEMALE  \n",
       "3          NaN     NaN  \n",
       "4       3450.0  FEMALE  "
      ]
     },
     "execution_count": 14,
     "metadata": {},
     "output_type": "execute_result"
    }
   ],
   "source": [
    "# lendo base de dados local\n",
    "pinguins = pd.read_csv(\"penguins.csv\")\n",
    "# exibe as 5 primeiras linhas\n",
    "pinguins.head()"
   ]
  },
  {
   "cell_type": "code",
   "execution_count": 3,
   "metadata": {},
   "outputs": [
    {
     "data": {
      "text/html": [
       "<div>\n",
       "<style scoped>\n",
       "    .dataframe tbody tr th:only-of-type {\n",
       "        vertical-align: middle;\n",
       "    }\n",
       "\n",
       "    .dataframe tbody tr th {\n",
       "        vertical-align: top;\n",
       "    }\n",
       "\n",
       "    .dataframe thead th {\n",
       "        text-align: right;\n",
       "    }\n",
       "</style>\n",
       "<table border=\"1\" class=\"dataframe\">\n",
       "  <thead>\n",
       "    <tr style=\"text-align: right;\">\n",
       "      <th></th>\n",
       "      <th>species</th>\n",
       "      <th>island</th>\n",
       "      <th>bill_length_mm</th>\n",
       "      <th>bill_depth_mm</th>\n",
       "      <th>flipper_length_mm</th>\n",
       "      <th>body_mass_g</th>\n",
       "      <th>sex</th>\n",
       "    </tr>\n",
       "  </thead>\n",
       "  <tbody>\n",
       "    <tr>\n",
       "      <th>0</th>\n",
       "      <td>Adelie</td>\n",
       "      <td>Torgersen</td>\n",
       "      <td>39.1</td>\n",
       "      <td>18.7</td>\n",
       "      <td>181.0</td>\n",
       "      <td>3750.0</td>\n",
       "      <td>MALE</td>\n",
       "    </tr>\n",
       "    <tr>\n",
       "      <th>1</th>\n",
       "      <td>Adelie</td>\n",
       "      <td>Torgersen</td>\n",
       "      <td>39.5</td>\n",
       "      <td>17.4</td>\n",
       "      <td>186.0</td>\n",
       "      <td>3800.0</td>\n",
       "      <td>FEMALE</td>\n",
       "    </tr>\n",
       "    <tr>\n",
       "      <th>2</th>\n",
       "      <td>Adelie</td>\n",
       "      <td>Torgersen</td>\n",
       "      <td>40.3</td>\n",
       "      <td>18.0</td>\n",
       "      <td>195.0</td>\n",
       "      <td>3250.0</td>\n",
       "      <td>FEMALE</td>\n",
       "    </tr>\n",
       "    <tr>\n",
       "      <th>3</th>\n",
       "      <td>Adelie</td>\n",
       "      <td>Torgersen</td>\n",
       "      <td>NaN</td>\n",
       "      <td>NaN</td>\n",
       "      <td>NaN</td>\n",
       "      <td>NaN</td>\n",
       "      <td>NaN</td>\n",
       "    </tr>\n",
       "    <tr>\n",
       "      <th>4</th>\n",
       "      <td>Adelie</td>\n",
       "      <td>Torgersen</td>\n",
       "      <td>36.7</td>\n",
       "      <td>19.3</td>\n",
       "      <td>193.0</td>\n",
       "      <td>3450.0</td>\n",
       "      <td>FEMALE</td>\n",
       "    </tr>\n",
       "  </tbody>\n",
       "</table>\n",
       "</div>"
      ],
      "text/plain": [
       "  species     island  bill_length_mm  bill_depth_mm  flipper_length_mm  \\\n",
       "0  Adelie  Torgersen            39.1           18.7              181.0   \n",
       "1  Adelie  Torgersen            39.5           17.4              186.0   \n",
       "2  Adelie  Torgersen            40.3           18.0              195.0   \n",
       "3  Adelie  Torgersen             NaN            NaN                NaN   \n",
       "4  Adelie  Torgersen            36.7           19.3              193.0   \n",
       "\n",
       "   body_mass_g     sex  \n",
       "0       3750.0    MALE  \n",
       "1       3800.0  FEMALE  \n",
       "2       3250.0  FEMALE  \n",
       "3          NaN     NaN  \n",
       "4       3450.0  FEMALE  "
      ]
     },
     "execution_count": 3,
     "metadata": {},
     "output_type": "execute_result"
    }
   ],
   "source": [
    "# Lendo base de dados de uma url\n",
    "pinguins = pd.read_csv(\"https://raw.githubusercontent.com/mwaskom/seaborn-data/master/penguins.csv\")\n",
    "pinguins.head()"
   ]
  },
  {
   "attachments": {},
   "cell_type": "markdown",
   "metadata": {},
   "source": [
    "# Visão geral dos dados\n",
    "\n",
    "Métodos `info()` e `describe()`"
   ]
  },
  {
   "cell_type": "code",
   "execution_count": 4,
   "metadata": {},
   "outputs": [
    {
     "name": "stdout",
     "output_type": "stream",
     "text": [
      "<class 'pandas.core.frame.DataFrame'>\n",
      "RangeIndex: 344 entries, 0 to 343\n",
      "Data columns (total 7 columns):\n",
      " #   Column             Non-Null Count  Dtype  \n",
      "---  ------             --------------  -----  \n",
      " 0   species            344 non-null    object \n",
      " 1   island             344 non-null    object \n",
      " 2   bill_length_mm     342 non-null    float64\n",
      " 3   bill_depth_mm      342 non-null    float64\n",
      " 4   flipper_length_mm  342 non-null    float64\n",
      " 5   body_mass_g        342 non-null    float64\n",
      " 6   sex                333 non-null    object \n",
      "dtypes: float64(4), object(3)\n",
      "memory usage: 18.9+ KB\n"
     ]
    }
   ],
   "source": [
    "pinguins.info()"
   ]
  },
  {
   "cell_type": "code",
   "execution_count": 5,
   "metadata": {},
   "outputs": [
    {
     "data": {
      "text/html": [
       "<div>\n",
       "<style scoped>\n",
       "    .dataframe tbody tr th:only-of-type {\n",
       "        vertical-align: middle;\n",
       "    }\n",
       "\n",
       "    .dataframe tbody tr th {\n",
       "        vertical-align: top;\n",
       "    }\n",
       "\n",
       "    .dataframe thead th {\n",
       "        text-align: right;\n",
       "    }\n",
       "</style>\n",
       "<table border=\"1\" class=\"dataframe\">\n",
       "  <thead>\n",
       "    <tr style=\"text-align: right;\">\n",
       "      <th></th>\n",
       "      <th>bill_length_mm</th>\n",
       "      <th>bill_depth_mm</th>\n",
       "      <th>flipper_length_mm</th>\n",
       "      <th>body_mass_g</th>\n",
       "    </tr>\n",
       "  </thead>\n",
       "  <tbody>\n",
       "    <tr>\n",
       "      <th>count</th>\n",
       "      <td>342.000000</td>\n",
       "      <td>342.000000</td>\n",
       "      <td>342.000000</td>\n",
       "      <td>342.000000</td>\n",
       "    </tr>\n",
       "    <tr>\n",
       "      <th>mean</th>\n",
       "      <td>43.921930</td>\n",
       "      <td>17.151170</td>\n",
       "      <td>200.915205</td>\n",
       "      <td>4201.754386</td>\n",
       "    </tr>\n",
       "    <tr>\n",
       "      <th>std</th>\n",
       "      <td>5.459584</td>\n",
       "      <td>1.974793</td>\n",
       "      <td>14.061714</td>\n",
       "      <td>801.954536</td>\n",
       "    </tr>\n",
       "    <tr>\n",
       "      <th>min</th>\n",
       "      <td>32.100000</td>\n",
       "      <td>13.100000</td>\n",
       "      <td>172.000000</td>\n",
       "      <td>2700.000000</td>\n",
       "    </tr>\n",
       "    <tr>\n",
       "      <th>25%</th>\n",
       "      <td>39.225000</td>\n",
       "      <td>15.600000</td>\n",
       "      <td>190.000000</td>\n",
       "      <td>3550.000000</td>\n",
       "    </tr>\n",
       "    <tr>\n",
       "      <th>50%</th>\n",
       "      <td>44.450000</td>\n",
       "      <td>17.300000</td>\n",
       "      <td>197.000000</td>\n",
       "      <td>4050.000000</td>\n",
       "    </tr>\n",
       "    <tr>\n",
       "      <th>75%</th>\n",
       "      <td>48.500000</td>\n",
       "      <td>18.700000</td>\n",
       "      <td>213.000000</td>\n",
       "      <td>4750.000000</td>\n",
       "    </tr>\n",
       "    <tr>\n",
       "      <th>max</th>\n",
       "      <td>59.600000</td>\n",
       "      <td>21.500000</td>\n",
       "      <td>231.000000</td>\n",
       "      <td>6300.000000</td>\n",
       "    </tr>\n",
       "  </tbody>\n",
       "</table>\n",
       "</div>"
      ],
      "text/plain": [
       "       bill_length_mm  bill_depth_mm  flipper_length_mm  body_mass_g\n",
       "count      342.000000     342.000000         342.000000   342.000000\n",
       "mean        43.921930      17.151170         200.915205  4201.754386\n",
       "std          5.459584       1.974793          14.061714   801.954536\n",
       "min         32.100000      13.100000         172.000000  2700.000000\n",
       "25%         39.225000      15.600000         190.000000  3550.000000\n",
       "50%         44.450000      17.300000         197.000000  4050.000000\n",
       "75%         48.500000      18.700000         213.000000  4750.000000\n",
       "max         59.600000      21.500000         231.000000  6300.000000"
      ]
     },
     "execution_count": 5,
     "metadata": {},
     "output_type": "execute_result"
    }
   ],
   "source": [
    "pinguins.describe()"
   ]
  },
  {
   "attachments": {},
   "cell_type": "markdown",
   "metadata": {},
   "source": [
    "# Manipulação de tabelas"
   ]
  },
  {
   "attachments": {},
   "cell_type": "markdown",
   "metadata": {},
   "source": [
    "## Selecionando apenas uma coluna"
   ]
  },
  {
   "cell_type": "code",
   "execution_count": 6,
   "metadata": {},
   "outputs": [
    {
     "data": {
      "text/plain": [
       "0      3750.0\n",
       "1      3800.0\n",
       "2      3250.0\n",
       "3         NaN\n",
       "4      3450.0\n",
       "        ...  \n",
       "339       NaN\n",
       "340    4850.0\n",
       "341    5750.0\n",
       "342    5200.0\n",
       "343    5400.0\n",
       "Name: body_mass_g, Length: 344, dtype: float64"
      ]
     },
     "execution_count": 6,
     "metadata": {},
     "output_type": "execute_result"
    }
   ],
   "source": [
    "pinguins['body_mass_g']"
   ]
  },
  {
   "attachments": {},
   "cell_type": "markdown",
   "metadata": {},
   "source": [
    "## Seleção"
   ]
  },
  {
   "cell_type": "code",
   "execution_count": 9,
   "metadata": {},
   "outputs": [
    {
     "name": "stdout",
     "output_type": "stream",
     "text": [
      "52\n"
     ]
    },
    {
     "data": {
      "text/html": [
       "<div>\n",
       "<style scoped>\n",
       "    .dataframe tbody tr th:only-of-type {\n",
       "        vertical-align: middle;\n",
       "    }\n",
       "\n",
       "    .dataframe tbody tr th {\n",
       "        vertical-align: top;\n",
       "    }\n",
       "\n",
       "    .dataframe thead th {\n",
       "        text-align: right;\n",
       "    }\n",
       "</style>\n",
       "<table border=\"1\" class=\"dataframe\">\n",
       "  <thead>\n",
       "    <tr style=\"text-align: right;\">\n",
       "      <th></th>\n",
       "      <th>species</th>\n",
       "      <th>island</th>\n",
       "      <th>bill_length_mm</th>\n",
       "      <th>bill_depth_mm</th>\n",
       "      <th>flipper_length_mm</th>\n",
       "      <th>body_mass_g</th>\n",
       "      <th>sex</th>\n",
       "    </tr>\n",
       "  </thead>\n",
       "  <tbody>\n",
       "    <tr>\n",
       "      <th>0</th>\n",
       "      <td>Adelie</td>\n",
       "      <td>Torgersen</td>\n",
       "      <td>39.1</td>\n",
       "      <td>18.7</td>\n",
       "      <td>181.0</td>\n",
       "      <td>3750.0</td>\n",
       "      <td>MALE</td>\n",
       "    </tr>\n",
       "    <tr>\n",
       "      <th>1</th>\n",
       "      <td>Adelie</td>\n",
       "      <td>Torgersen</td>\n",
       "      <td>39.5</td>\n",
       "      <td>17.4</td>\n",
       "      <td>186.0</td>\n",
       "      <td>3800.0</td>\n",
       "      <td>FEMALE</td>\n",
       "    </tr>\n",
       "    <tr>\n",
       "      <th>2</th>\n",
       "      <td>Adelie</td>\n",
       "      <td>Torgersen</td>\n",
       "      <td>40.3</td>\n",
       "      <td>18.0</td>\n",
       "      <td>195.0</td>\n",
       "      <td>3250.0</td>\n",
       "      <td>FEMALE</td>\n",
       "    </tr>\n",
       "    <tr>\n",
       "      <th>3</th>\n",
       "      <td>Adelie</td>\n",
       "      <td>Torgersen</td>\n",
       "      <td>NaN</td>\n",
       "      <td>NaN</td>\n",
       "      <td>NaN</td>\n",
       "      <td>NaN</td>\n",
       "      <td>NaN</td>\n",
       "    </tr>\n",
       "    <tr>\n",
       "      <th>4</th>\n",
       "      <td>Adelie</td>\n",
       "      <td>Torgersen</td>\n",
       "      <td>36.7</td>\n",
       "      <td>19.3</td>\n",
       "      <td>193.0</td>\n",
       "      <td>3450.0</td>\n",
       "      <td>FEMALE</td>\n",
       "    </tr>\n",
       "  </tbody>\n",
       "</table>\n",
       "</div>"
      ],
      "text/plain": [
       "  species     island  bill_length_mm  bill_depth_mm  flipper_length_mm  \\\n",
       "0  Adelie  Torgersen            39.1           18.7              181.0   \n",
       "1  Adelie  Torgersen            39.5           17.4              186.0   \n",
       "2  Adelie  Torgersen            40.3           18.0              195.0   \n",
       "3  Adelie  Torgersen             NaN            NaN                NaN   \n",
       "4  Adelie  Torgersen            36.7           19.3              193.0   \n",
       "\n",
       "   body_mass_g     sex  \n",
       "0       3750.0    MALE  \n",
       "1       3800.0  FEMALE  \n",
       "2       3250.0  FEMALE  \n",
       "3          NaN     NaN  \n",
       "4       3450.0  FEMALE  "
      ]
     },
     "execution_count": 9,
     "metadata": {},
     "output_type": "execute_result"
    }
   ],
   "source": [
    "# selecionando com uma condição\n",
    "# condição: todos os pinguins são da ilha Torgersen\n",
    "pg_ilha = pinguins[pinguins['island']=='Torgersen']\n",
    "print (len(pg_ilha))\n",
    "pg_ilha.head()"
   ]
  },
  {
   "cell_type": "code",
   "execution_count": 10,
   "metadata": {},
   "outputs": [
    {
     "name": "stdout",
     "output_type": "stream",
     "text": [
      "176\n"
     ]
    },
    {
     "data": {
      "text/html": [
       "<div>\n",
       "<style scoped>\n",
       "    .dataframe tbody tr th:only-of-type {\n",
       "        vertical-align: middle;\n",
       "    }\n",
       "\n",
       "    .dataframe tbody tr th {\n",
       "        vertical-align: top;\n",
       "    }\n",
       "\n",
       "    .dataframe thead th {\n",
       "        text-align: right;\n",
       "    }\n",
       "</style>\n",
       "<table border=\"1\" class=\"dataframe\">\n",
       "  <thead>\n",
       "    <tr style=\"text-align: right;\">\n",
       "      <th></th>\n",
       "      <th>species</th>\n",
       "      <th>island</th>\n",
       "      <th>bill_length_mm</th>\n",
       "      <th>bill_depth_mm</th>\n",
       "      <th>flipper_length_mm</th>\n",
       "      <th>body_mass_g</th>\n",
       "      <th>sex</th>\n",
       "    </tr>\n",
       "  </thead>\n",
       "  <tbody>\n",
       "    <tr>\n",
       "      <th>0</th>\n",
       "      <td>Adelie</td>\n",
       "      <td>Torgersen</td>\n",
       "      <td>39.1</td>\n",
       "      <td>18.7</td>\n",
       "      <td>181.0</td>\n",
       "      <td>3750.0</td>\n",
       "      <td>MALE</td>\n",
       "    </tr>\n",
       "    <tr>\n",
       "      <th>1</th>\n",
       "      <td>Adelie</td>\n",
       "      <td>Torgersen</td>\n",
       "      <td>39.5</td>\n",
       "      <td>17.4</td>\n",
       "      <td>186.0</td>\n",
       "      <td>3800.0</td>\n",
       "      <td>FEMALE</td>\n",
       "    </tr>\n",
       "    <tr>\n",
       "      <th>2</th>\n",
       "      <td>Adelie</td>\n",
       "      <td>Torgersen</td>\n",
       "      <td>40.3</td>\n",
       "      <td>18.0</td>\n",
       "      <td>195.0</td>\n",
       "      <td>3250.0</td>\n",
       "      <td>FEMALE</td>\n",
       "    </tr>\n",
       "    <tr>\n",
       "      <th>3</th>\n",
       "      <td>Adelie</td>\n",
       "      <td>Torgersen</td>\n",
       "      <td>NaN</td>\n",
       "      <td>NaN</td>\n",
       "      <td>NaN</td>\n",
       "      <td>NaN</td>\n",
       "      <td>NaN</td>\n",
       "    </tr>\n",
       "    <tr>\n",
       "      <th>4</th>\n",
       "      <td>Adelie</td>\n",
       "      <td>Torgersen</td>\n",
       "      <td>36.7</td>\n",
       "      <td>19.3</td>\n",
       "      <td>193.0</td>\n",
       "      <td>3450.0</td>\n",
       "      <td>FEMALE</td>\n",
       "    </tr>\n",
       "  </tbody>\n",
       "</table>\n",
       "</div>"
      ],
      "text/plain": [
       "  species     island  bill_length_mm  bill_depth_mm  flipper_length_mm  \\\n",
       "0  Adelie  Torgersen            39.1           18.7              181.0   \n",
       "1  Adelie  Torgersen            39.5           17.4              186.0   \n",
       "2  Adelie  Torgersen            40.3           18.0              195.0   \n",
       "3  Adelie  Torgersen             NaN            NaN                NaN   \n",
       "4  Adelie  Torgersen            36.7           19.3              193.0   \n",
       "\n",
       "   body_mass_g     sex  \n",
       "0       3750.0    MALE  \n",
       "1       3800.0  FEMALE  \n",
       "2       3250.0  FEMALE  \n",
       "3          NaN     NaN  \n",
       "4       3450.0  FEMALE  "
      ]
     },
     "execution_count": 10,
     "metadata": {},
     "output_type": "execute_result"
    }
   ],
   "source": [
    "# selecionando com 2 condições: selecionar os pinguins que são da ilha Torgersen ou da ilha Dream\n",
    "# condição 1 = os pinguins são da ilha Torgersen \n",
    "# condicão 2 = os pinguins são da ilha Dream \n",
    "pg_ilha = pinguins[(pinguins['island']=='Torgersen') | (pinguins['island']=='Dream')]\n",
    "print (len(pg_ilha))\n",
    "pg_ilha.head()"
   ]
  },
  {
   "cell_type": "code",
   "execution_count": 11,
   "metadata": {},
   "outputs": [
    {
     "name": "stdout",
     "output_type": "stream",
     "text": [
      "11\n"
     ]
    },
    {
     "data": {
      "text/html": [
       "<div>\n",
       "<style scoped>\n",
       "    .dataframe tbody tr th:only-of-type {\n",
       "        vertical-align: middle;\n",
       "    }\n",
       "\n",
       "    .dataframe tbody tr th {\n",
       "        vertical-align: top;\n",
       "    }\n",
       "\n",
       "    .dataframe thead th {\n",
       "        text-align: right;\n",
       "    }\n",
       "</style>\n",
       "<table border=\"1\" class=\"dataframe\">\n",
       "  <thead>\n",
       "    <tr style=\"text-align: right;\">\n",
       "      <th></th>\n",
       "      <th>species</th>\n",
       "      <th>island</th>\n",
       "      <th>bill_length_mm</th>\n",
       "      <th>bill_depth_mm</th>\n",
       "      <th>flipper_length_mm</th>\n",
       "      <th>body_mass_g</th>\n",
       "      <th>sex</th>\n",
       "    </tr>\n",
       "  </thead>\n",
       "  <tbody>\n",
       "    <tr>\n",
       "      <th>44</th>\n",
       "      <td>Adelie</td>\n",
       "      <td>Dream</td>\n",
       "      <td>37.0</td>\n",
       "      <td>16.9</td>\n",
       "      <td>185.0</td>\n",
       "      <td>3000.0</td>\n",
       "      <td>FEMALE</td>\n",
       "    </tr>\n",
       "    <tr>\n",
       "      <th>47</th>\n",
       "      <td>Adelie</td>\n",
       "      <td>Dream</td>\n",
       "      <td>37.5</td>\n",
       "      <td>18.9</td>\n",
       "      <td>179.0</td>\n",
       "      <td>2975.0</td>\n",
       "      <td>NaN</td>\n",
       "    </tr>\n",
       "    <tr>\n",
       "      <th>54</th>\n",
       "      <td>Adelie</td>\n",
       "      <td>Biscoe</td>\n",
       "      <td>34.5</td>\n",
       "      <td>18.1</td>\n",
       "      <td>187.0</td>\n",
       "      <td>2900.0</td>\n",
       "      <td>FEMALE</td>\n",
       "    </tr>\n",
       "    <tr>\n",
       "      <th>58</th>\n",
       "      <td>Adelie</td>\n",
       "      <td>Biscoe</td>\n",
       "      <td>36.5</td>\n",
       "      <td>16.6</td>\n",
       "      <td>181.0</td>\n",
       "      <td>2850.0</td>\n",
       "      <td>FEMALE</td>\n",
       "    </tr>\n",
       "    <tr>\n",
       "      <th>64</th>\n",
       "      <td>Adelie</td>\n",
       "      <td>Biscoe</td>\n",
       "      <td>36.4</td>\n",
       "      <td>17.1</td>\n",
       "      <td>184.0</td>\n",
       "      <td>2850.0</td>\n",
       "      <td>FEMALE</td>\n",
       "    </tr>\n",
       "  </tbody>\n",
       "</table>\n",
       "</div>"
      ],
      "text/plain": [
       "   species  island  bill_length_mm  bill_depth_mm  flipper_length_mm  \\\n",
       "44  Adelie   Dream            37.0           16.9              185.0   \n",
       "47  Adelie   Dream            37.5           18.9              179.0   \n",
       "54  Adelie  Biscoe            34.5           18.1              187.0   \n",
       "58  Adelie  Biscoe            36.5           16.6              181.0   \n",
       "64  Adelie  Biscoe            36.4           17.1              184.0   \n",
       "\n",
       "    body_mass_g     sex  \n",
       "44       3000.0  FEMALE  \n",
       "47       2975.0     NaN  \n",
       "54       2900.0  FEMALE  \n",
       "58       2850.0  FEMALE  \n",
       "64       2850.0  FEMALE  "
      ]
     },
     "execution_count": 11,
     "metadata": {},
     "output_type": "execute_result"
    }
   ],
   "source": [
    "# selecionando com coluna numérica\n",
    "# condição = pinguins cuja massa corporal é inferior ou igual à 3000.0g\n",
    "pg_mc = pinguins[pinguins['body_mass_g']<=3000.0]\n",
    "print (len(pg_mc))\n",
    "pg_mc.head()"
   ]
  },
  {
   "cell_type": "code",
   "execution_count": 37,
   "metadata": {},
   "outputs": [
    {
     "name": "stdout",
     "output_type": "stream",
     "text": [
      "62\n"
     ]
    },
    {
     "data": {
      "text/html": [
       "<div>\n",
       "<style scoped>\n",
       "    .dataframe tbody tr th:only-of-type {\n",
       "        vertical-align: middle;\n",
       "    }\n",
       "\n",
       "    .dataframe tbody tr th {\n",
       "        vertical-align: top;\n",
       "    }\n",
       "\n",
       "    .dataframe thead th {\n",
       "        text-align: right;\n",
       "    }\n",
       "</style>\n",
       "<table border=\"1\" class=\"dataframe\">\n",
       "  <thead>\n",
       "    <tr style=\"text-align: right;\">\n",
       "      <th></th>\n",
       "      <th>species</th>\n",
       "      <th>island</th>\n",
       "      <th>bill_length_mm</th>\n",
       "      <th>bill_depth_mm</th>\n",
       "      <th>flipper_length_mm</th>\n",
       "      <th>body_mass_g</th>\n",
       "      <th>sex</th>\n",
       "    </tr>\n",
       "  </thead>\n",
       "  <tbody>\n",
       "    <tr>\n",
       "      <th>2</th>\n",
       "      <td>Adelie</td>\n",
       "      <td>Torgersen</td>\n",
       "      <td>40.3</td>\n",
       "      <td>18.0</td>\n",
       "      <td>195.0</td>\n",
       "      <td>3250.0</td>\n",
       "      <td>FEMALE</td>\n",
       "    </tr>\n",
       "    <tr>\n",
       "      <th>4</th>\n",
       "      <td>Adelie</td>\n",
       "      <td>Torgersen</td>\n",
       "      <td>36.7</td>\n",
       "      <td>19.3</td>\n",
       "      <td>193.0</td>\n",
       "      <td>3450.0</td>\n",
       "      <td>FEMALE</td>\n",
       "    </tr>\n",
       "    <tr>\n",
       "      <th>8</th>\n",
       "      <td>Adelie</td>\n",
       "      <td>Torgersen</td>\n",
       "      <td>34.1</td>\n",
       "      <td>18.1</td>\n",
       "      <td>193.0</td>\n",
       "      <td>3475.0</td>\n",
       "      <td>NaN</td>\n",
       "    </tr>\n",
       "    <tr>\n",
       "      <th>10</th>\n",
       "      <td>Adelie</td>\n",
       "      <td>Torgersen</td>\n",
       "      <td>37.8</td>\n",
       "      <td>17.1</td>\n",
       "      <td>186.0</td>\n",
       "      <td>3300.0</td>\n",
       "      <td>NaN</td>\n",
       "    </tr>\n",
       "    <tr>\n",
       "      <th>12</th>\n",
       "      <td>Adelie</td>\n",
       "      <td>Torgersen</td>\n",
       "      <td>41.1</td>\n",
       "      <td>17.6</td>\n",
       "      <td>182.0</td>\n",
       "      <td>3200.0</td>\n",
       "      <td>FEMALE</td>\n",
       "    </tr>\n",
       "  </tbody>\n",
       "</table>\n",
       "</div>"
      ],
      "text/plain": [
       "   species     island  bill_length_mm  bill_depth_mm  flipper_length_mm  \\\n",
       "2   Adelie  Torgersen            40.3           18.0              195.0   \n",
       "4   Adelie  Torgersen            36.7           19.3              193.0   \n",
       "8   Adelie  Torgersen            34.1           18.1              193.0   \n",
       "10  Adelie  Torgersen            37.8           17.1              186.0   \n",
       "12  Adelie  Torgersen            41.1           17.6              182.0   \n",
       "\n",
       "    body_mass_g     sex  \n",
       "2        3250.0  FEMALE  \n",
       "4        3450.0  FEMALE  \n",
       "8        3475.0     NaN  \n",
       "10       3300.0     NaN  \n",
       "12       3200.0  FEMALE  "
      ]
     },
     "execution_count": 37,
     "metadata": {},
     "output_type": "execute_result"
    }
   ],
   "source": [
    "# selecionando com 2 colunas numéricas: pinguis\n",
    "# condição 1 = pinguins cuja massa corporal é inferior ou igual à 3000.0g\n",
    "pg_mc = pinguins[(pinguins['body_mass_g']>=3000.0) & (pinguins['body_mass_g']<=3500.0)]\n",
    "print (len(pg_mc))\n",
    "pg_mc.head()"
   ]
  },
  {
   "cell_type": "code",
   "execution_count": 35,
   "metadata": {},
   "outputs": [
    {
     "name": "stdout",
     "output_type": "stream",
     "text": [
      "1\n"
     ]
    },
    {
     "data": {
      "text/html": [
       "<div>\n",
       "<style scoped>\n",
       "    .dataframe tbody tr th:only-of-type {\n",
       "        vertical-align: middle;\n",
       "    }\n",
       "\n",
       "    .dataframe tbody tr th {\n",
       "        vertical-align: top;\n",
       "    }\n",
       "\n",
       "    .dataframe thead th {\n",
       "        text-align: right;\n",
       "    }\n",
       "</style>\n",
       "<table border=\"1\" class=\"dataframe\">\n",
       "  <thead>\n",
       "    <tr style=\"text-align: right;\">\n",
       "      <th></th>\n",
       "      <th>species</th>\n",
       "      <th>island</th>\n",
       "      <th>bill_length_mm</th>\n",
       "      <th>bill_depth_mm</th>\n",
       "      <th>flipper_length_mm</th>\n",
       "      <th>body_mass_g</th>\n",
       "      <th>sex</th>\n",
       "    </tr>\n",
       "  </thead>\n",
       "  <tbody>\n",
       "    <tr>\n",
       "      <th>116</th>\n",
       "      <td>Adelie</td>\n",
       "      <td>Torgersen</td>\n",
       "      <td>38.6</td>\n",
       "      <td>17.0</td>\n",
       "      <td>188.0</td>\n",
       "      <td>2900.0</td>\n",
       "      <td>FEMALE</td>\n",
       "    </tr>\n",
       "  </tbody>\n",
       "</table>\n",
       "</div>"
      ],
      "text/plain": [
       "    species     island  bill_length_mm  bill_depth_mm  flipper_length_mm  \\\n",
       "116  Adelie  Torgersen            38.6           17.0              188.0   \n",
       "\n",
       "     body_mass_g     sex  \n",
       "116       2900.0  FEMALE  "
      ]
     },
     "execution_count": 35,
     "metadata": {},
     "output_type": "execute_result"
    }
   ],
   "source": [
    "# selecionando com 2 condições (1 numérica e a outra categórica): pinguins da ilha Torgersen que tem massa corporal menor ou igual a 3000.0g\n",
    "# condição 1: pinguins com massa corporal menor ou igual a 3000.0g\n",
    "# condição 2: pinguins da ilha Torgersen\n",
    "pg_mc_ilha = pinguins[(pinguins['body_mass_g']<=3000.0) & (pinguins['island']=='Torgersen')]\n",
    "print (len(pg_mc_ilha))\n",
    "pg_mc_ilha"
   ]
  },
  {
   "attachments": {},
   "cell_type": "markdown",
   "metadata": {},
   "source": [
    "## Alterando colunas da tabela"
   ]
  },
  {
   "cell_type": "code",
   "execution_count": null,
   "metadata": {},
   "outputs": [],
   "source": [
    "# criando nova coluna na tabela a partir de outras colunas\n",
    "# por ex.: a proporção de bill_length_mm para bill_depth_mm (bill_length_mm/bill_depth_mm)\n",
    "pinguins['bl_bd'] = pinguins['bill_length_mm']/pinguins['bill_depth_mm']\n"
   ]
  },
  {
   "cell_type": "code",
   "execution_count": 12,
   "metadata": {},
   "outputs": [
    {
     "data": {
      "text/html": [
       "<div>\n",
       "<style scoped>\n",
       "    .dataframe tbody tr th:only-of-type {\n",
       "        vertical-align: middle;\n",
       "    }\n",
       "\n",
       "    .dataframe tbody tr th {\n",
       "        vertical-align: top;\n",
       "    }\n",
       "\n",
       "    .dataframe thead th {\n",
       "        text-align: right;\n",
       "    }\n",
       "</style>\n",
       "<table border=\"1\" class=\"dataframe\">\n",
       "  <thead>\n",
       "    <tr style=\"text-align: right;\">\n",
       "      <th></th>\n",
       "      <th>species</th>\n",
       "      <th>island</th>\n",
       "      <th>bill_length_mm</th>\n",
       "      <th>bill_depth_mm</th>\n",
       "      <th>flipper_length_mm</th>\n",
       "      <th>body_mass_g</th>\n",
       "      <th>sex</th>\n",
       "    </tr>\n",
       "  </thead>\n",
       "  <tbody>\n",
       "    <tr>\n",
       "      <th>0</th>\n",
       "      <td>Adelie</td>\n",
       "      <td>Torgersen</td>\n",
       "      <td>39.1</td>\n",
       "      <td>18.7</td>\n",
       "      <td>181.0</td>\n",
       "      <td>3.75</td>\n",
       "      <td>MALE</td>\n",
       "    </tr>\n",
       "    <tr>\n",
       "      <th>1</th>\n",
       "      <td>Adelie</td>\n",
       "      <td>Torgersen</td>\n",
       "      <td>39.5</td>\n",
       "      <td>17.4</td>\n",
       "      <td>186.0</td>\n",
       "      <td>3.80</td>\n",
       "      <td>FEMALE</td>\n",
       "    </tr>\n",
       "    <tr>\n",
       "      <th>2</th>\n",
       "      <td>Adelie</td>\n",
       "      <td>Torgersen</td>\n",
       "      <td>40.3</td>\n",
       "      <td>18.0</td>\n",
       "      <td>195.0</td>\n",
       "      <td>3.25</td>\n",
       "      <td>FEMALE</td>\n",
       "    </tr>\n",
       "    <tr>\n",
       "      <th>3</th>\n",
       "      <td>Adelie</td>\n",
       "      <td>Torgersen</td>\n",
       "      <td>NaN</td>\n",
       "      <td>NaN</td>\n",
       "      <td>NaN</td>\n",
       "      <td>NaN</td>\n",
       "      <td>NaN</td>\n",
       "    </tr>\n",
       "    <tr>\n",
       "      <th>4</th>\n",
       "      <td>Adelie</td>\n",
       "      <td>Torgersen</td>\n",
       "      <td>36.7</td>\n",
       "      <td>19.3</td>\n",
       "      <td>193.0</td>\n",
       "      <td>3.45</td>\n",
       "      <td>FEMALE</td>\n",
       "    </tr>\n",
       "  </tbody>\n",
       "</table>\n",
       "</div>"
      ],
      "text/plain": [
       "  species     island  bill_length_mm  bill_depth_mm  flipper_length_mm  \\\n",
       "0  Adelie  Torgersen            39.1           18.7              181.0   \n",
       "1  Adelie  Torgersen            39.5           17.4              186.0   \n",
       "2  Adelie  Torgersen            40.3           18.0              195.0   \n",
       "3  Adelie  Torgersen             NaN            NaN                NaN   \n",
       "4  Adelie  Torgersen            36.7           19.3              193.0   \n",
       "\n",
       "   body_mass_g     sex  \n",
       "0         3.75    MALE  \n",
       "1         3.80  FEMALE  \n",
       "2         3.25  FEMALE  \n",
       "3          NaN     NaN  \n",
       "4         3.45  FEMALE  "
      ]
     },
     "execution_count": 12,
     "metadata": {},
     "output_type": "execute_result"
    }
   ],
   "source": [
    "# convertendo a coluna body_mass_g de gramas para quilogramas\n",
    "pinguins['body_mass_g'] = pinguins['body_mass_g']/1000\n",
    "pinguins.head()"
   ]
  },
  {
   "attachments": {},
   "cell_type": "markdown",
   "metadata": {},
   "source": [
<<<<<<< HEAD
    "# Relações entre variáveis"
=======
    "## Removendo registros com lacunas"
>>>>>>> e198716c0deb7fd5e3cbf67d5fd813336fd75956
   ]
  },
  {
   "cell_type": "code",
<<<<<<< HEAD
   "execution_count": 10,
=======
   "execution_count": 7,
>>>>>>> e198716c0deb7fd5e3cbf67d5fd813336fd75956
   "metadata": {},
   "outputs": [
    {
     "data": {
      "text/html": [
       "<div>\n",
       "<style scoped>\n",
       "    .dataframe tbody tr th:only-of-type {\n",
       "        vertical-align: middle;\n",
       "    }\n",
       "\n",
       "    .dataframe tbody tr th {\n",
       "        vertical-align: top;\n",
       "    }\n",
       "\n",
       "    .dataframe thead th {\n",
       "        text-align: right;\n",
       "    }\n",
       "</style>\n",
       "<table border=\"1\" class=\"dataframe\">\n",
       "  <thead>\n",
       "    <tr style=\"text-align: right;\">\n",
       "      <th></th>\n",
<<<<<<< HEAD
       "      <th>A</th>\n",
       "      <th>B</th>\n",
=======
       "      <th>species</th>\n",
       "      <th>island</th>\n",
       "      <th>bill_length_mm</th>\n",
       "      <th>bill_depth_mm</th>\n",
       "      <th>flipper_length_mm</th>\n",
       "      <th>body_mass_g</th>\n",
       "      <th>sex</th>\n",
>>>>>>> e198716c0deb7fd5e3cbf67d5fd813336fd75956
       "    </tr>\n",
       "  </thead>\n",
       "  <tbody>\n",
       "    <tr>\n",
       "      <th>0</th>\n",
<<<<<<< HEAD
       "      <td>0</td>\n",
       "      <td>1</td>\n",
       "    </tr>\n",
       "    <tr>\n",
       "      <th>1</th>\n",
       "      <td>1</td>\n",
       "      <td>10</td>\n",
       "    </tr>\n",
       "    <tr>\n",
       "      <th>2</th>\n",
       "      <td>0</td>\n",
       "      <td>2</td>\n",
       "    </tr>\n",
       "    <tr>\n",
       "      <th>3</th>\n",
       "      <td>1</td>\n",
       "      <td>11</td>\n",
       "    </tr>\n",
       "    <tr>\n",
       "      <th>4</th>\n",
       "      <td>0</td>\n",
       "      <td>1</td>\n",
       "    </tr>\n",
       "  </tbody>\n",
       "</table>\n",
       "</div>"
      ],
      "text/plain": [
       "   A   B\n",
       "0  0   1\n",
       "1  1  10\n",
       "2  0   2\n",
       "3  1  11\n",
       "4  0   1"
      ]
     },
     "execution_count": 10,
=======
       "      <td>Adelie</td>\n",
       "      <td>Torgersen</td>\n",
       "      <td>39.1</td>\n",
       "      <td>18.7</td>\n",
       "      <td>181.0</td>\n",
       "      <td>3750.0</td>\n",
       "      <td>MALE</td>\n",
       "    </tr>\n",
       "    <tr>\n",
       "      <th>1</th>\n",
       "      <td>Adelie</td>\n",
       "      <td>Torgersen</td>\n",
       "      <td>39.5</td>\n",
       "      <td>17.4</td>\n",
       "      <td>186.0</td>\n",
       "      <td>3800.0</td>\n",
       "      <td>FEMALE</td>\n",
       "    </tr>\n",
       "    <tr>\n",
       "      <th>2</th>\n",
       "      <td>Adelie</td>\n",
       "      <td>Torgersen</td>\n",
       "      <td>40.3</td>\n",
       "      <td>18.0</td>\n",
       "      <td>195.0</td>\n",
       "      <td>3250.0</td>\n",
       "      <td>FEMALE</td>\n",
       "    </tr>\n",
       "    <tr>\n",
       "      <th>4</th>\n",
       "      <td>Adelie</td>\n",
       "      <td>Torgersen</td>\n",
       "      <td>36.7</td>\n",
       "      <td>19.3</td>\n",
       "      <td>193.0</td>\n",
       "      <td>3450.0</td>\n",
       "      <td>FEMALE</td>\n",
       "    </tr>\n",
       "    <tr>\n",
       "      <th>5</th>\n",
       "      <td>Adelie</td>\n",
       "      <td>Torgersen</td>\n",
       "      <td>39.3</td>\n",
       "      <td>20.6</td>\n",
       "      <td>190.0</td>\n",
       "      <td>3650.0</td>\n",
       "      <td>MALE</td>\n",
       "    </tr>\n",
       "    <tr>\n",
       "      <th>...</th>\n",
       "      <td>...</td>\n",
       "      <td>...</td>\n",
       "      <td>...</td>\n",
       "      <td>...</td>\n",
       "      <td>...</td>\n",
       "      <td>...</td>\n",
       "      <td>...</td>\n",
       "    </tr>\n",
       "    <tr>\n",
       "      <th>338</th>\n",
       "      <td>Gentoo</td>\n",
       "      <td>Biscoe</td>\n",
       "      <td>47.2</td>\n",
       "      <td>13.7</td>\n",
       "      <td>214.0</td>\n",
       "      <td>4925.0</td>\n",
       "      <td>FEMALE</td>\n",
       "    </tr>\n",
       "    <tr>\n",
       "      <th>340</th>\n",
       "      <td>Gentoo</td>\n",
       "      <td>Biscoe</td>\n",
       "      <td>46.8</td>\n",
       "      <td>14.3</td>\n",
       "      <td>215.0</td>\n",
       "      <td>4850.0</td>\n",
       "      <td>FEMALE</td>\n",
       "    </tr>\n",
       "    <tr>\n",
       "      <th>341</th>\n",
       "      <td>Gentoo</td>\n",
       "      <td>Biscoe</td>\n",
       "      <td>50.4</td>\n",
       "      <td>15.7</td>\n",
       "      <td>222.0</td>\n",
       "      <td>5750.0</td>\n",
       "      <td>MALE</td>\n",
       "    </tr>\n",
       "    <tr>\n",
       "      <th>342</th>\n",
       "      <td>Gentoo</td>\n",
       "      <td>Biscoe</td>\n",
       "      <td>45.2</td>\n",
       "      <td>14.8</td>\n",
       "      <td>212.0</td>\n",
       "      <td>5200.0</td>\n",
       "      <td>FEMALE</td>\n",
       "    </tr>\n",
       "    <tr>\n",
       "      <th>343</th>\n",
       "      <td>Gentoo</td>\n",
       "      <td>Biscoe</td>\n",
       "      <td>49.9</td>\n",
       "      <td>16.1</td>\n",
       "      <td>213.0</td>\n",
       "      <td>5400.0</td>\n",
       "      <td>MALE</td>\n",
       "    </tr>\n",
       "  </tbody>\n",
       "</table>\n",
       "<p>333 rows × 7 columns</p>\n",
       "</div>"
      ],
      "text/plain": [
       "    species     island  bill_length_mm  bill_depth_mm  flipper_length_mm  \\\n",
       "0    Adelie  Torgersen            39.1           18.7              181.0   \n",
       "1    Adelie  Torgersen            39.5           17.4              186.0   \n",
       "2    Adelie  Torgersen            40.3           18.0              195.0   \n",
       "4    Adelie  Torgersen            36.7           19.3              193.0   \n",
       "5    Adelie  Torgersen            39.3           20.6              190.0   \n",
       "..      ...        ...             ...            ...                ...   \n",
       "338  Gentoo     Biscoe            47.2           13.7              214.0   \n",
       "340  Gentoo     Biscoe            46.8           14.3              215.0   \n",
       "341  Gentoo     Biscoe            50.4           15.7              222.0   \n",
       "342  Gentoo     Biscoe            45.2           14.8              212.0   \n",
       "343  Gentoo     Biscoe            49.9           16.1              213.0   \n",
       "\n",
       "     body_mass_g     sex  \n",
       "0         3750.0    MALE  \n",
       "1         3800.0  FEMALE  \n",
       "2         3250.0  FEMALE  \n",
       "4         3450.0  FEMALE  \n",
       "5         3650.0    MALE  \n",
       "..           ...     ...  \n",
       "338       4925.0  FEMALE  \n",
       "340       4850.0  FEMALE  \n",
       "341       5750.0    MALE  \n",
       "342       5200.0  FEMALE  \n",
       "343       5400.0    MALE  \n",
       "\n",
       "[333 rows x 7 columns]"
      ]
     },
     "execution_count": 7,
>>>>>>> e198716c0deb7fd5e3cbf67d5fd813336fd75956
     "metadata": {},
     "output_type": "execute_result"
    }
   ],
   "source": [
<<<<<<< HEAD
    "dados = {\n",
    "    'A': [0, 1, 0, 1, 0],\n",
    "    'B': [1, 10, 2, 11, 1]\n",
    "    }\n",
    "df_dados = pd.DataFrame(dados)\n",
    "df_dados"
=======
    "pinguins.dropna()"
   ]
  },
  {
   "attachments": {},
   "cell_type": "markdown",
   "metadata": {},
   "source": [
    "## Substituindo valores nulos"
>>>>>>> e198716c0deb7fd5e3cbf67d5fd813336fd75956
   ]
  },
  {
   "cell_type": "code",
<<<<<<< HEAD
   "execution_count": 11,
   "metadata": {},
   "outputs": [
    {
     "data": {
      "text/html": [
       "<div>\n",
       "<style scoped>\n",
       "    .dataframe tbody tr th:only-of-type {\n",
       "        vertical-align: middle;\n",
       "    }\n",
       "\n",
       "    .dataframe tbody tr th {\n",
       "        vertical-align: top;\n",
       "    }\n",
       "\n",
       "    .dataframe thead th {\n",
       "        text-align: right;\n",
       "    }\n",
       "</style>\n",
       "<table border=\"1\" class=\"dataframe\">\n",
       "  <thead>\n",
       "    <tr style=\"text-align: right;\">\n",
       "      <th></th>\n",
       "      <th>A</th>\n",
       "      <th>B</th>\n",
       "    </tr>\n",
       "  </thead>\n",
       "  <tbody>\n",
       "    <tr>\n",
       "      <th>A</th>\n",
       "      <td>1.000000</td>\n",
       "      <td>0.994265</td>\n",
       "    </tr>\n",
       "    <tr>\n",
       "      <th>B</th>\n",
       "      <td>0.994265</td>\n",
       "      <td>1.000000</td>\n",
       "    </tr>\n",
       "  </tbody>\n",
       "</table>\n",
       "</div>"
      ],
      "text/plain": [
       "          A         B\n",
       "A  1.000000  0.994265\n",
       "B  0.994265  1.000000"
      ]
     },
     "execution_count": 11,
     "metadata": {},
     "output_type": "execute_result"
    }
   ],
   "source": [
    "df_dados.corr()"
=======
   "execution_count": 17,
   "metadata": {},
   "outputs": [],
   "source": [
    "media_bill_depth = pinguins['bill_depth_mm'].mean()\n",
    "pinguins['bill_depth_mm'].fillna(value=media_bill_depth, inplace=True)"
>>>>>>> e198716c0deb7fd5e3cbf67d5fd813336fd75956
   ]
  },
  {
   "cell_type": "code",
<<<<<<< HEAD
   "execution_count": 13,
=======
   "execution_count": 16,
>>>>>>> e198716c0deb7fd5e3cbf67d5fd813336fd75956
   "metadata": {},
   "outputs": [
    {
     "data": {
      "text/html": [
       "<div>\n",
       "<style scoped>\n",
       "    .dataframe tbody tr th:only-of-type {\n",
       "        vertical-align: middle;\n",
       "    }\n",
       "\n",
       "    .dataframe tbody tr th {\n",
       "        vertical-align: top;\n",
       "    }\n",
       "\n",
       "    .dataframe thead th {\n",
       "        text-align: right;\n",
       "    }\n",
       "</style>\n",
       "<table border=\"1\" class=\"dataframe\">\n",
       "  <thead>\n",
       "    <tr style=\"text-align: right;\">\n",
       "      <th></th>\n",
<<<<<<< HEAD
       "      <th>A</th>\n",
       "      <th>B</th>\n",
=======
       "      <th>species</th>\n",
       "      <th>island</th>\n",
       "      <th>bill_length_mm</th>\n",
       "      <th>bill_depth_mm</th>\n",
       "      <th>flipper_length_mm</th>\n",
       "      <th>body_mass_g</th>\n",
       "      <th>sex</th>\n",
>>>>>>> e198716c0deb7fd5e3cbf67d5fd813336fd75956
       "    </tr>\n",
       "  </thead>\n",
       "  <tbody>\n",
       "    <tr>\n",
<<<<<<< HEAD
       "      <th>A</th>\n",
       "      <td>1.0</td>\n",
       "      <td>-1.0</td>\n",
       "    </tr>\n",
       "    <tr>\n",
       "      <th>B</th>\n",
       "      <td>-1.0</td>\n",
       "      <td>1.0</td>\n",
       "    </tr>\n",
       "  </tbody>\n",
       "</table>\n",
       "</div>"
      ],
      "text/plain": [
       "     A    B\n",
       "A  1.0 -1.0\n",
       "B -1.0  1.0"
      ]
     },
     "execution_count": 13,
=======
       "      <th>0</th>\n",
       "      <td>Adelie</td>\n",
       "      <td>Torgersen</td>\n",
       "      <td>39.1</td>\n",
       "      <td>18.7</td>\n",
       "      <td>181.0</td>\n",
       "      <td>3750.0</td>\n",
       "      <td>MALE</td>\n",
       "    </tr>\n",
       "    <tr>\n",
       "      <th>1</th>\n",
       "      <td>Adelie</td>\n",
       "      <td>Torgersen</td>\n",
       "      <td>39.5</td>\n",
       "      <td>17.4</td>\n",
       "      <td>186.0</td>\n",
       "      <td>3800.0</td>\n",
       "      <td>FEMALE</td>\n",
       "    </tr>\n",
       "    <tr>\n",
       "      <th>2</th>\n",
       "      <td>Adelie</td>\n",
       "      <td>Torgersen</td>\n",
       "      <td>40.3</td>\n",
       "      <td>18.0</td>\n",
       "      <td>195.0</td>\n",
       "      <td>3250.0</td>\n",
       "      <td>FEMALE</td>\n",
       "    </tr>\n",
       "    <tr>\n",
       "      <th>3</th>\n",
       "      <td>Adelie</td>\n",
       "      <td>Torgersen</td>\n",
       "      <td>NaN</td>\n",
       "      <td>NaN</td>\n",
       "      <td>NaN</td>\n",
       "      <td>NaN</td>\n",
       "      <td>NaN</td>\n",
       "    </tr>\n",
       "    <tr>\n",
       "      <th>4</th>\n",
       "      <td>Adelie</td>\n",
       "      <td>Torgersen</td>\n",
       "      <td>36.7</td>\n",
       "      <td>19.3</td>\n",
       "      <td>193.0</td>\n",
       "      <td>3450.0</td>\n",
       "      <td>FEMALE</td>\n",
       "    </tr>\n",
       "    <tr>\n",
       "      <th>...</th>\n",
       "      <td>...</td>\n",
       "      <td>...</td>\n",
       "      <td>...</td>\n",
       "      <td>...</td>\n",
       "      <td>...</td>\n",
       "      <td>...</td>\n",
       "      <td>...</td>\n",
       "    </tr>\n",
       "    <tr>\n",
       "      <th>339</th>\n",
       "      <td>Gentoo</td>\n",
       "      <td>Biscoe</td>\n",
       "      <td>NaN</td>\n",
       "      <td>NaN</td>\n",
       "      <td>NaN</td>\n",
       "      <td>NaN</td>\n",
       "      <td>NaN</td>\n",
       "    </tr>\n",
       "    <tr>\n",
       "      <th>340</th>\n",
       "      <td>Gentoo</td>\n",
       "      <td>Biscoe</td>\n",
       "      <td>46.8</td>\n",
       "      <td>14.3</td>\n",
       "      <td>215.0</td>\n",
       "      <td>4850.0</td>\n",
       "      <td>FEMALE</td>\n",
       "    </tr>\n",
       "    <tr>\n",
       "      <th>341</th>\n",
       "      <td>Gentoo</td>\n",
       "      <td>Biscoe</td>\n",
       "      <td>50.4</td>\n",
       "      <td>15.7</td>\n",
       "      <td>222.0</td>\n",
       "      <td>5750.0</td>\n",
       "      <td>MALE</td>\n",
       "    </tr>\n",
       "    <tr>\n",
       "      <th>342</th>\n",
       "      <td>Gentoo</td>\n",
       "      <td>Biscoe</td>\n",
       "      <td>45.2</td>\n",
       "      <td>14.8</td>\n",
       "      <td>212.0</td>\n",
       "      <td>5200.0</td>\n",
       "      <td>FEMALE</td>\n",
       "    </tr>\n",
       "    <tr>\n",
       "      <th>343</th>\n",
       "      <td>Gentoo</td>\n",
       "      <td>Biscoe</td>\n",
       "      <td>49.9</td>\n",
       "      <td>16.1</td>\n",
       "      <td>213.0</td>\n",
       "      <td>5400.0</td>\n",
       "      <td>MALE</td>\n",
       "    </tr>\n",
       "  </tbody>\n",
       "</table>\n",
       "<p>344 rows × 7 columns</p>\n",
       "</div>"
      ],
      "text/plain": [
       "    species     island  bill_length_mm  bill_depth_mm  flipper_length_mm  \\\n",
       "0    Adelie  Torgersen            39.1           18.7              181.0   \n",
       "1    Adelie  Torgersen            39.5           17.4              186.0   \n",
       "2    Adelie  Torgersen            40.3           18.0              195.0   \n",
       "3    Adelie  Torgersen             NaN            NaN                NaN   \n",
       "4    Adelie  Torgersen            36.7           19.3              193.0   \n",
       "..      ...        ...             ...            ...                ...   \n",
       "339  Gentoo     Biscoe             NaN            NaN                NaN   \n",
       "340  Gentoo     Biscoe            46.8           14.3              215.0   \n",
       "341  Gentoo     Biscoe            50.4           15.7              222.0   \n",
       "342  Gentoo     Biscoe            45.2           14.8              212.0   \n",
       "343  Gentoo     Biscoe            49.9           16.1              213.0   \n",
       "\n",
       "     body_mass_g     sex  \n",
       "0         3750.0    MALE  \n",
       "1         3800.0  FEMALE  \n",
       "2         3250.0  FEMALE  \n",
       "3            NaN     NaN  \n",
       "4         3450.0  FEMALE  \n",
       "..           ...     ...  \n",
       "339          NaN     NaN  \n",
       "340       4850.0  FEMALE  \n",
       "341       5750.0    MALE  \n",
       "342       5200.0  FEMALE  \n",
       "343       5400.0    MALE  \n",
       "\n",
       "[344 rows x 7 columns]"
      ]
     },
     "execution_count": 16,
>>>>>>> e198716c0deb7fd5e3cbf67d5fd813336fd75956
     "metadata": {},
     "output_type": "execute_result"
    }
   ],
   "source": [
<<<<<<< HEAD
    "dados = {\n",
    "    'A': [0, 1, 2, 3, 4],\n",
    "    'B': [-10, -11, -12, -13, -14]\n",
    "    }\n",
    "df_dados = pd.DataFrame(dados)\n",
    "df_dados.corr()"
=======
    "pinguins"
>>>>>>> e198716c0deb7fd5e3cbf67d5fd813336fd75956
   ]
  },
  {
   "cell_type": "code",
   "execution_count": null,
   "metadata": {},
   "outputs": [],
   "source": []
  },
  {
   "attachments": {},
   "cell_type": "markdown",
   "metadata": {},
   "source": [
    "# Exemplo prático: breve análise dos sobreviventes do Titanic"
   ]
  },
  {
   "cell_type": "code",
<<<<<<< HEAD
   "execution_count": 15,
=======
   "execution_count": 19,
>>>>>>> e198716c0deb7fd5e3cbf67d5fd813336fd75956
   "metadata": {},
   "outputs": [],
   "source": [
    "# local\n",
    "df = pd.read_csv(\"titanic.csv\")"
   ]
  },
  {
   "cell_type": "code",
   "execution_count": 20,
   "metadata": {},
   "outputs": [
    {
     "name": "stdout",
     "output_type": "stream",
     "text": [
      "<class 'pandas.core.frame.DataFrame'>\n",
      "RangeIndex: 891 entries, 0 to 890\n",
      "Data columns (total 15 columns):\n",
      " #   Column       Non-Null Count  Dtype  \n",
      "---  ------       --------------  -----  \n",
      " 0   survived     891 non-null    int64  \n",
      " 1   pclass       891 non-null    int64  \n",
      " 2   sex          891 non-null    object \n",
      " 3   age          714 non-null    float64\n",
      " 4   sibsp        891 non-null    int64  \n",
      " 5   parch        891 non-null    int64  \n",
      " 6   fare         891 non-null    float64\n",
      " 7   embarked     889 non-null    object \n",
      " 8   class        891 non-null    object \n",
      " 9   who          891 non-null    object \n",
      " 10  adult_male   891 non-null    bool   \n",
      " 11  deck         203 non-null    object \n",
      " 12  embark_town  889 non-null    object \n",
      " 13  alive        891 non-null    object \n",
      " 14  alone        891 non-null    bool   \n",
      "dtypes: bool(2), float64(2), int64(4), object(7)\n",
      "memory usage: 92.4+ KB\n"
     ]
    }
   ],
   "source": [
    "df.info()"
   ]
  },
  {
   "attachments": {},
   "cell_type": "markdown",
   "metadata": {},
   "source": [
    "Algumas informações relevantes sobre os dados:\n",
    "\n",
    "- Há colunas em que os dados são do tipo numérico e outras 'objeto' (texto) ou booleano\n",
    "- A maioria das colunas está completa (com 891 registros não nulos). \n",
    "- Na coluna `deck` a maioria dos valores são nulos.\n",
    "\n",
    "Para esse exemplo vamos remover essa coluna `deck` que possui muitos registros nulos."
   ]
  },
  {
   "cell_type": "code",
<<<<<<< HEAD
   "execution_count": 16,
=======
   "execution_count": 21,
>>>>>>> e198716c0deb7fd5e3cbf67d5fd813336fd75956
   "metadata": {},
   "outputs": [],
   "source": [
    "df.drop(columns=['deck'], inplace=True)"
   ]
  },
  {
   "attachments": {},
   "cell_type": "markdown",
   "metadata": {},
   "source": [
    "Após a remoção da coluna, se olharmos as primeiras 5 linhas, vemos que algumas colunas representam a mesma coisa (mas com representações diferentes):\n",
    "\n",
    "- `survived` e `alive`: Passageiro sobreviveu ou não ao acidente\n",
    "- `pclass` e `class`: Classe em que o passageiro viajou\n",
    "- `embarked` e `embarked_town`: Cidade de embarque\n",
    "\n",
    "Podemos então escolher entre uma delas. Vamos remover as colunas `alive`, `class` e `embarked`"
   ]
  },
  {
   "cell_type": "code",
   "execution_count": 22,
   "metadata": {},
   "outputs": [
    {
     "data": {
      "text/html": [
       "<div>\n",
       "<style scoped>\n",
       "    .dataframe tbody tr th:only-of-type {\n",
       "        vertical-align: middle;\n",
       "    }\n",
       "\n",
       "    .dataframe tbody tr th {\n",
       "        vertical-align: top;\n",
       "    }\n",
       "\n",
       "    .dataframe thead th {\n",
       "        text-align: right;\n",
       "    }\n",
       "</style>\n",
       "<table border=\"1\" class=\"dataframe\">\n",
       "  <thead>\n",
       "    <tr style=\"text-align: right;\">\n",
       "      <th></th>\n",
       "      <th>survived</th>\n",
       "      <th>pclass</th>\n",
       "      <th>sex</th>\n",
       "      <th>age</th>\n",
       "      <th>sibsp</th>\n",
       "      <th>parch</th>\n",
       "      <th>fare</th>\n",
       "      <th>embarked</th>\n",
       "      <th>class</th>\n",
       "      <th>who</th>\n",
       "      <th>adult_male</th>\n",
       "      <th>embark_town</th>\n",
       "      <th>alive</th>\n",
       "      <th>alone</th>\n",
       "    </tr>\n",
       "  </thead>\n",
       "  <tbody>\n",
       "    <tr>\n",
       "      <th>0</th>\n",
       "      <td>0</td>\n",
       "      <td>3</td>\n",
       "      <td>male</td>\n",
       "      <td>22.0</td>\n",
       "      <td>1</td>\n",
       "      <td>0</td>\n",
       "      <td>7.2500</td>\n",
       "      <td>S</td>\n",
       "      <td>Third</td>\n",
       "      <td>man</td>\n",
       "      <td>True</td>\n",
       "      <td>Southampton</td>\n",
       "      <td>no</td>\n",
       "      <td>False</td>\n",
       "    </tr>\n",
       "    <tr>\n",
       "      <th>1</th>\n",
       "      <td>1</td>\n",
       "      <td>1</td>\n",
       "      <td>female</td>\n",
       "      <td>38.0</td>\n",
       "      <td>1</td>\n",
       "      <td>0</td>\n",
       "      <td>71.2833</td>\n",
       "      <td>C</td>\n",
       "      <td>First</td>\n",
       "      <td>woman</td>\n",
       "      <td>False</td>\n",
       "      <td>Cherbourg</td>\n",
       "      <td>yes</td>\n",
       "      <td>False</td>\n",
       "    </tr>\n",
       "    <tr>\n",
       "      <th>2</th>\n",
       "      <td>1</td>\n",
       "      <td>3</td>\n",
       "      <td>female</td>\n",
       "      <td>26.0</td>\n",
       "      <td>0</td>\n",
       "      <td>0</td>\n",
       "      <td>7.9250</td>\n",
       "      <td>S</td>\n",
       "      <td>Third</td>\n",
       "      <td>woman</td>\n",
       "      <td>False</td>\n",
       "      <td>Southampton</td>\n",
       "      <td>yes</td>\n",
       "      <td>True</td>\n",
       "    </tr>\n",
       "    <tr>\n",
       "      <th>3</th>\n",
       "      <td>1</td>\n",
       "      <td>1</td>\n",
       "      <td>female</td>\n",
       "      <td>35.0</td>\n",
       "      <td>1</td>\n",
       "      <td>0</td>\n",
       "      <td>53.1000</td>\n",
       "      <td>S</td>\n",
       "      <td>First</td>\n",
       "      <td>woman</td>\n",
       "      <td>False</td>\n",
       "      <td>Southampton</td>\n",
       "      <td>yes</td>\n",
       "      <td>False</td>\n",
       "    </tr>\n",
       "    <tr>\n",
       "      <th>4</th>\n",
       "      <td>0</td>\n",
       "      <td>3</td>\n",
       "      <td>male</td>\n",
       "      <td>35.0</td>\n",
       "      <td>0</td>\n",
       "      <td>0</td>\n",
       "      <td>8.0500</td>\n",
       "      <td>S</td>\n",
       "      <td>Third</td>\n",
       "      <td>man</td>\n",
       "      <td>True</td>\n",
       "      <td>Southampton</td>\n",
       "      <td>no</td>\n",
       "      <td>True</td>\n",
       "    </tr>\n",
       "  </tbody>\n",
       "</table>\n",
       "</div>"
      ],
      "text/plain": [
       "   survived  pclass     sex   age  sibsp  parch     fare embarked  class  \\\n",
       "0         0       3    male  22.0      1      0   7.2500        S  Third   \n",
       "1         1       1  female  38.0      1      0  71.2833        C  First   \n",
       "2         1       3  female  26.0      0      0   7.9250        S  Third   \n",
       "3         1       1  female  35.0      1      0  53.1000        S  First   \n",
       "4         0       3    male  35.0      0      0   8.0500        S  Third   \n",
       "\n",
       "     who  adult_male  embark_town alive  alone  \n",
       "0    man        True  Southampton    no  False  \n",
       "1  woman       False    Cherbourg   yes  False  \n",
       "2  woman       False  Southampton   yes   True  \n",
       "3  woman       False  Southampton   yes  False  \n",
       "4    man        True  Southampton    no   True  "
      ]
     },
     "execution_count": 22,
     "metadata": {},
     "output_type": "execute_result"
    }
   ],
   "source": [
    "df.head()"
   ]
  },
  {
   "cell_type": "code",
<<<<<<< HEAD
   "execution_count": 17,
=======
   "execution_count": 23,
>>>>>>> e198716c0deb7fd5e3cbf67d5fd813336fd75956
   "metadata": {},
   "outputs": [
    {
     "data": {
      "text/html": [
       "<div>\n",
       "<style scoped>\n",
       "    .dataframe tbody tr th:only-of-type {\n",
       "        vertical-align: middle;\n",
       "    }\n",
       "\n",
       "    .dataframe tbody tr th {\n",
       "        vertical-align: top;\n",
       "    }\n",
       "\n",
       "    .dataframe thead th {\n",
       "        text-align: right;\n",
       "    }\n",
       "</style>\n",
       "<table border=\"1\" class=\"dataframe\">\n",
       "  <thead>\n",
       "    <tr style=\"text-align: right;\">\n",
       "      <th></th>\n",
       "      <th>survived</th>\n",
       "      <th>pclass</th>\n",
       "      <th>sex</th>\n",
       "      <th>age</th>\n",
       "      <th>sibsp</th>\n",
       "      <th>parch</th>\n",
       "      <th>fare</th>\n",
       "      <th>who</th>\n",
       "      <th>adult_male</th>\n",
       "      <th>embark_town</th>\n",
       "      <th>alone</th>\n",
       "    </tr>\n",
       "  </thead>\n",
       "  <tbody>\n",
       "    <tr>\n",
       "      <th>0</th>\n",
       "      <td>0</td>\n",
       "      <td>3</td>\n",
       "      <td>male</td>\n",
       "      <td>22.0</td>\n",
       "      <td>1</td>\n",
       "      <td>0</td>\n",
       "      <td>7.2500</td>\n",
       "      <td>man</td>\n",
       "      <td>True</td>\n",
       "      <td>Southampton</td>\n",
       "      <td>False</td>\n",
       "    </tr>\n",
       "    <tr>\n",
       "      <th>1</th>\n",
       "      <td>1</td>\n",
       "      <td>1</td>\n",
       "      <td>female</td>\n",
       "      <td>38.0</td>\n",
       "      <td>1</td>\n",
       "      <td>0</td>\n",
       "      <td>71.2833</td>\n",
       "      <td>woman</td>\n",
       "      <td>False</td>\n",
       "      <td>Cherbourg</td>\n",
       "      <td>False</td>\n",
       "    </tr>\n",
       "    <tr>\n",
       "      <th>2</th>\n",
       "      <td>1</td>\n",
       "      <td>3</td>\n",
       "      <td>female</td>\n",
       "      <td>26.0</td>\n",
       "      <td>0</td>\n",
       "      <td>0</td>\n",
       "      <td>7.9250</td>\n",
       "      <td>woman</td>\n",
       "      <td>False</td>\n",
       "      <td>Southampton</td>\n",
       "      <td>True</td>\n",
       "    </tr>\n",
       "    <tr>\n",
       "      <th>3</th>\n",
       "      <td>1</td>\n",
       "      <td>1</td>\n",
       "      <td>female</td>\n",
       "      <td>35.0</td>\n",
       "      <td>1</td>\n",
       "      <td>0</td>\n",
       "      <td>53.1000</td>\n",
       "      <td>woman</td>\n",
       "      <td>False</td>\n",
       "      <td>Southampton</td>\n",
       "      <td>False</td>\n",
       "    </tr>\n",
       "    <tr>\n",
       "      <th>4</th>\n",
       "      <td>0</td>\n",
       "      <td>3</td>\n",
       "      <td>male</td>\n",
       "      <td>35.0</td>\n",
       "      <td>0</td>\n",
       "      <td>0</td>\n",
       "      <td>8.0500</td>\n",
       "      <td>man</td>\n",
       "      <td>True</td>\n",
       "      <td>Southampton</td>\n",
       "      <td>True</td>\n",
       "    </tr>\n",
       "  </tbody>\n",
       "</table>\n",
       "</div>"
      ],
      "text/plain": [
       "   survived  pclass     sex   age  sibsp  parch     fare    who  adult_male  \\\n",
       "0         0       3    male  22.0      1      0   7.2500    man        True   \n",
       "1         1       1  female  38.0      1      0  71.2833  woman       False   \n",
       "2         1       3  female  26.0      0      0   7.9250  woman       False   \n",
       "3         1       1  female  35.0      1      0  53.1000  woman       False   \n",
       "4         0       3    male  35.0      0      0   8.0500    man        True   \n",
       "\n",
       "   embark_town  alone  \n",
       "0  Southampton  False  \n",
       "1    Cherbourg  False  \n",
       "2  Southampton   True  \n",
       "3  Southampton  False  \n",
       "4  Southampton   True  "
      ]
     },
<<<<<<< HEAD
     "execution_count": 17,
=======
     "execution_count": 23,
>>>>>>> e198716c0deb7fd5e3cbf67d5fd813336fd75956
     "metadata": {},
     "output_type": "execute_result"
    }
   ],
   "source": [
    "df.drop(columns=['alive', 'class', 'embarked'], inplace=True)\n",
    "df.head()"
   ]
  },
  {
   "attachments": {},
   "cell_type": "markdown",
   "metadata": {},
   "source": [
    "Finalmente, removemos as linhas com valores nulos referentes à coluna `Age` e `embark_town`:"
   ]
  },
  {
   "cell_type": "code",
<<<<<<< HEAD
   "execution_count": 18,
=======
   "execution_count": 24,
>>>>>>> e198716c0deb7fd5e3cbf67d5fd813336fd75956
   "metadata": {},
   "outputs": [],
   "source": [
    "df.dropna(inplace=True)"
   ]
  },
  {
   "attachments": {},
   "cell_type": "markdown",
   "metadata": {},
   "source": [
    "Agora podemos iniciar as primeiras visualizações gerais sobre essa tabela. Por exemplo, podemos utilizar um gráfico de barras nas variáveis que não são numéricas. Uma das formas de se fazer isso é usando a função [value_counts()](https://pandas.pydata.org/docs/reference/api/pandas.Series.value_counts.html)\n",
    "do pandas.\n",
    "\n",
    "Vamos ver um exemplo dessa função na coluna `sex`:"
   ]
  },
  {
   "cell_type": "code",
<<<<<<< HEAD
   "execution_count": 19,
=======
   "execution_count": 25,
>>>>>>> e198716c0deb7fd5e3cbf67d5fd813336fd75956
   "metadata": {},
   "outputs": [
    {
     "data": {
      "text/plain": [
       "male      453\n",
       "female    259\n",
       "Name: sex, dtype: int64"
      ]
     },
<<<<<<< HEAD
     "execution_count": 19,
=======
     "execution_count": 25,
>>>>>>> e198716c0deb7fd5e3cbf67d5fd813336fd75956
     "metadata": {},
     "output_type": "execute_result"
    }
   ],
   "source": [
    "df['sex'].value_counts()"
   ]
  },
  {
   "cell_type": "markdown",
   "metadata": {},
   "source": [
    "Podemos usar esse resultado diretamente em nosso gráfico de barras:"
   ]
  },
  {
   "cell_type": "code",
<<<<<<< HEAD
   "execution_count": 20,
=======
   "execution_count": 27,
>>>>>>> e198716c0deb7fd5e3cbf67d5fd813336fd75956
   "metadata": {},
   "outputs": [
    {
     "data": {
<<<<<<< HEAD
      "text/plain": [
       "<BarContainer object of 2 artists>"
      ]
     },
     "execution_count": 20,
     "metadata": {},
     "output_type": "execute_result"
    },
    {
     "data": {
      "image/png": "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",
=======
      "image/png": "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",
>>>>>>> e198716c0deb7fd5e3cbf67d5fd813336fd75956
      "text/plain": [
       "<Figure size 432x288 with 1 Axes>"
      ]
     },
     "metadata": {
      "needs_background": "light"
     },
     "output_type": "display_data"
    }
   ],
   "source": [
    "plt.bar(df['sex'].value_counts().index, df['sex'].value_counts().values);"
   ]
  },
  {
   "cell_type": "code",
<<<<<<< HEAD
   "execution_count": 21,
=======
   "execution_count": 28,
>>>>>>> e198716c0deb7fd5e3cbf67d5fd813336fd75956
   "metadata": {},
   "outputs": [
    {
     "data": {
      "text/html": [
       "<div>\n",
       "<style scoped>\n",
       "    .dataframe tbody tr th:only-of-type {\n",
       "        vertical-align: middle;\n",
       "    }\n",
       "\n",
       "    .dataframe tbody tr th {\n",
       "        vertical-align: top;\n",
       "    }\n",
       "\n",
       "    .dataframe thead th {\n",
       "        text-align: right;\n",
       "    }\n",
       "</style>\n",
       "<table border=\"1\" class=\"dataframe\">\n",
       "  <thead>\n",
       "    <tr style=\"text-align: right;\">\n",
       "      <th></th>\n",
       "      <th>survived</th>\n",
       "      <th>pclass</th>\n",
       "      <th>sex</th>\n",
       "      <th>age</th>\n",
       "      <th>sibsp</th>\n",
       "      <th>parch</th>\n",
       "      <th>fare</th>\n",
       "      <th>who</th>\n",
       "      <th>adult_male</th>\n",
       "      <th>embark_town</th>\n",
       "      <th>alone</th>\n",
       "    </tr>\n",
       "  </thead>\n",
       "  <tbody>\n",
       "    <tr>\n",
       "      <th>0</th>\n",
       "      <td>0</td>\n",
       "      <td>3</td>\n",
       "      <td>male</td>\n",
       "      <td>22.0</td>\n",
       "      <td>1</td>\n",
       "      <td>0</td>\n",
       "      <td>7.2500</td>\n",
       "      <td>man</td>\n",
       "      <td>True</td>\n",
       "      <td>Southampton</td>\n",
       "      <td>False</td>\n",
       "    </tr>\n",
       "    <tr>\n",
       "      <th>1</th>\n",
       "      <td>1</td>\n",
       "      <td>1</td>\n",
       "      <td>female</td>\n",
       "      <td>38.0</td>\n",
       "      <td>1</td>\n",
       "      <td>0</td>\n",
       "      <td>71.2833</td>\n",
       "      <td>woman</td>\n",
       "      <td>False</td>\n",
       "      <td>Cherbourg</td>\n",
       "      <td>False</td>\n",
       "    </tr>\n",
       "    <tr>\n",
       "      <th>2</th>\n",
       "      <td>1</td>\n",
       "      <td>3</td>\n",
       "      <td>female</td>\n",
       "      <td>26.0</td>\n",
       "      <td>0</td>\n",
       "      <td>0</td>\n",
       "      <td>7.9250</td>\n",
       "      <td>woman</td>\n",
       "      <td>False</td>\n",
       "      <td>Southampton</td>\n",
       "      <td>True</td>\n",
       "    </tr>\n",
       "    <tr>\n",
       "      <th>3</th>\n",
       "      <td>1</td>\n",
       "      <td>1</td>\n",
       "      <td>female</td>\n",
       "      <td>35.0</td>\n",
       "      <td>1</td>\n",
       "      <td>0</td>\n",
       "      <td>53.1000</td>\n",
       "      <td>woman</td>\n",
       "      <td>False</td>\n",
       "      <td>Southampton</td>\n",
       "      <td>False</td>\n",
       "    </tr>\n",
       "    <tr>\n",
       "      <th>4</th>\n",
       "      <td>0</td>\n",
       "      <td>3</td>\n",
       "      <td>male</td>\n",
       "      <td>35.0</td>\n",
       "      <td>0</td>\n",
       "      <td>0</td>\n",
       "      <td>8.0500</td>\n",
       "      <td>man</td>\n",
       "      <td>True</td>\n",
       "      <td>Southampton</td>\n",
       "      <td>True</td>\n",
       "    </tr>\n",
       "    <tr>\n",
       "      <th>...</th>\n",
       "      <td>...</td>\n",
       "      <td>...</td>\n",
       "      <td>...</td>\n",
       "      <td>...</td>\n",
       "      <td>...</td>\n",
       "      <td>...</td>\n",
       "      <td>...</td>\n",
       "      <td>...</td>\n",
       "      <td>...</td>\n",
       "      <td>...</td>\n",
       "      <td>...</td>\n",
       "    </tr>\n",
       "    <tr>\n",
       "      <th>885</th>\n",
       "      <td>0</td>\n",
       "      <td>3</td>\n",
       "      <td>female</td>\n",
       "      <td>39.0</td>\n",
       "      <td>0</td>\n",
       "      <td>5</td>\n",
       "      <td>29.1250</td>\n",
       "      <td>woman</td>\n",
       "      <td>False</td>\n",
       "      <td>Queenstown</td>\n",
       "      <td>False</td>\n",
       "    </tr>\n",
       "    <tr>\n",
       "      <th>886</th>\n",
       "      <td>0</td>\n",
       "      <td>2</td>\n",
       "      <td>male</td>\n",
       "      <td>27.0</td>\n",
       "      <td>0</td>\n",
       "      <td>0</td>\n",
       "      <td>13.0000</td>\n",
       "      <td>man</td>\n",
       "      <td>True</td>\n",
       "      <td>Southampton</td>\n",
       "      <td>True</td>\n",
       "    </tr>\n",
       "    <tr>\n",
       "      <th>887</th>\n",
       "      <td>1</td>\n",
       "      <td>1</td>\n",
       "      <td>female</td>\n",
       "      <td>19.0</td>\n",
       "      <td>0</td>\n",
       "      <td>0</td>\n",
       "      <td>30.0000</td>\n",
       "      <td>woman</td>\n",
       "      <td>False</td>\n",
       "      <td>Southampton</td>\n",
       "      <td>True</td>\n",
       "    </tr>\n",
       "    <tr>\n",
       "      <th>889</th>\n",
       "      <td>1</td>\n",
       "      <td>1</td>\n",
       "      <td>male</td>\n",
       "      <td>26.0</td>\n",
       "      <td>0</td>\n",
       "      <td>0</td>\n",
       "      <td>30.0000</td>\n",
       "      <td>man</td>\n",
       "      <td>True</td>\n",
       "      <td>Cherbourg</td>\n",
       "      <td>True</td>\n",
       "    </tr>\n",
       "    <tr>\n",
       "      <th>890</th>\n",
       "      <td>0</td>\n",
       "      <td>3</td>\n",
       "      <td>male</td>\n",
       "      <td>32.0</td>\n",
       "      <td>0</td>\n",
       "      <td>0</td>\n",
       "      <td>7.7500</td>\n",
       "      <td>man</td>\n",
       "      <td>True</td>\n",
       "      <td>Queenstown</td>\n",
       "      <td>True</td>\n",
       "    </tr>\n",
       "  </tbody>\n",
       "</table>\n",
       "<p>712 rows × 11 columns</p>\n",
       "</div>"
      ],
      "text/plain": [
       "     survived  pclass     sex   age  sibsp  parch     fare    who  adult_male  \\\n",
       "0           0       3    male  22.0      1      0   7.2500    man        True   \n",
       "1           1       1  female  38.0      1      0  71.2833  woman       False   \n",
       "2           1       3  female  26.0      0      0   7.9250  woman       False   \n",
       "3           1       1  female  35.0      1      0  53.1000  woman       False   \n",
       "4           0       3    male  35.0      0      0   8.0500    man        True   \n",
       "..        ...     ...     ...   ...    ...    ...      ...    ...         ...   \n",
       "885         0       3  female  39.0      0      5  29.1250  woman       False   \n",
       "886         0       2    male  27.0      0      0  13.0000    man        True   \n",
       "887         1       1  female  19.0      0      0  30.0000  woman       False   \n",
       "889         1       1    male  26.0      0      0  30.0000    man        True   \n",
       "890         0       3    male  32.0      0      0   7.7500    man        True   \n",
       "\n",
       "     embark_town  alone  \n",
       "0    Southampton  False  \n",
       "1      Cherbourg  False  \n",
       "2    Southampton   True  \n",
       "3    Southampton  False  \n",
       "4    Southampton   True  \n",
       "..           ...    ...  \n",
       "885   Queenstown  False  \n",
       "886  Southampton   True  \n",
       "887  Southampton   True  \n",
       "889    Cherbourg   True  \n",
       "890   Queenstown   True  \n",
       "\n",
       "[712 rows x 11 columns]"
      ]
     },
     "execution_count": 21,
     "metadata": {},
     "output_type": "execute_result"
    }
   ],
   "source": [
    "df"
   ]
  },
  {
   "cell_type": "markdown",
   "metadata": {},
   "source": [
    "E agora para toda as colunas não numéricas:"
   ]
  },
  {
   "cell_type": "code",
<<<<<<< HEAD
   "execution_count": 22,
=======
   "execution_count": 29,
>>>>>>> e198716c0deb7fd5e3cbf67d5fd813336fd75956
   "metadata": {},
   "outputs": [
    {
     "data": {
      "image/png": "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",
      "text/plain": [
<<<<<<< HEAD
       "<Figure size 360x720 with 5 Axes>"
      ]
     },
     "metadata": {
      "needs_background": "light"
     },
     "output_type": "display_data"
=======
       "['sex', 'embark_town', 'alone', 'class', 'who', 'adult_male', 'alive']"
      ]
     },
     "execution_count": 29,
     "metadata": {},
     "output_type": "execute_result"
>>>>>>> e198716c0deb7fd5e3cbf67d5fd813336fd75956
    }
   ],
   "source": [
    "colunas = [\"sex\", \"embark_town\", \"alone\", \"who\", \"adult_male\"]\n",
    "cores = ['orange', 'green', 'red']\n",
    "fig, ax = plt.subplots(nrows=len(colunas), figsize=(5, 10))\n",
    "for i in range(len(colunas)):\n",
    "    c = colunas[i]\n",
    "    ax[i].bar(x=df[c].value_counts().index, height=df[c].value_counts().values, color=cores)\n",
    "    ax[i].set_title(c)\n",
    "plt.tight_layout()"
   ]
  },
  {
<<<<<<< HEAD
   "cell_type": "markdown",
=======
   "cell_type": "code",
   "execution_count": 30,
>>>>>>> e198716c0deb7fd5e3cbf67d5fd813336fd75956
   "metadata": {},
   "source": [
    "Vejamos, agora, uma visualização considerando as colunas numéricas. Para este exemplo utilizaremos o histograma."
   ]
  },
  {
   "cell_type": "code",
<<<<<<< HEAD
   "execution_count": 25,
=======
   "execution_count": 31,
>>>>>>> e198716c0deb7fd5e3cbf67d5fd813336fd75956
   "metadata": {},
   "outputs": [
    {
     "data": {
      "text/plain": [
<<<<<<< HEAD
       "['fare', 'age', 'pclass', 'sibsp', 'parch', 'survived']"
      ]
     },
     "execution_count": 25,
=======
       "['fare', 'parch', 'sibsp', 'age']"
      ]
     },
     "execution_count": 31,
>>>>>>> e198716c0deb7fd5e3cbf67d5fd813336fd75956
     "metadata": {},
     "output_type": "execute_result"
    }
   ],
   "source": [
    "# retiramos os valores em 'colunas' de todos os valores em 'df.columns'\n",
    "colunas_numericas = list(set(df.columns).difference(list(colunas)))\n",
    "colunas_numericas"
   ]
  },
  {
   "cell_type": "code",
<<<<<<< HEAD
   "execution_count": 27,
=======
   "execution_count": 32,
>>>>>>> e198716c0deb7fd5e3cbf67d5fd813336fd75956
   "metadata": {},
   "outputs": [
    {
     "data": {
      "image/png": "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",
      "text/plain": [
<<<<<<< HEAD
       "<Figure size 360x216 with 1 Axes>"
      ]
     },
     "metadata": {
      "needs_background": "light"
=======
       "array([<AxesSubplot:title={'center':'fare'}>], dtype=object)"
      ]
     },
     "execution_count": 32,
     "metadata": {},
     "output_type": "execute_result"
    },
    {
     "data": {
      "image/png": "iVBORw0KGgoAAAANSUhEUgAAAbsAAAEpCAYAAAAKx4xWAAAAOXRFWHRTb2Z0d2FyZQBNYXRwbG90bGliIHZlcnNpb24zLjUuMiwgaHR0cHM6Ly9tYXRwbG90bGliLm9yZy8qNh9FAAAACXBIWXMAAA9hAAAPYQGoP6dpAAAniUlEQVR4nO3df1zV1f0H8NcFLhcQL1dM7pUCorKUqdEw4ZarpggZtUwelY45ck6XA0vZnLL5AzDFh9sjzUa6mtP22MzNLdsyNW5YuCYgkiyBjawsXHqhZHgVxuXCPd8/+vKZ1w8mFy7c6+H1fDzu4+HnnPM595x32MvP5XPv1QghBIiIiCTm5+0FEBERDTSGHRERSY9hR0RE0mPYERGR9Bh2REQkPYYdERFJj2FHRETSY9gREZH0GHZERCQ9hh2RD6isrMRdd92FYcOGQaPRoLq62ttLIpJKgLcXQDTUORwOPProowgKCsKmTZsQEhKCmJgYby+LSCoMOyIv++ijj/Dpp5/ipZdewve//31vL4dISnwZk8jLmpqaAAAGg8Ej87W2tnpkHiKZMOyIvOiJJ57AvffeCwB49NFHodFocN999+H999/HE088gZtuuglBQUEwmUz43ve+h3Pnzrmcn5eXB41Gg7q6Onz729/GiBEjMGXKFKX/d7/7HRISEhAcHIzw8HDMnj0bp0+fHtQ9EvkCvoxJ5EU/+MEPcP3112P9+vV46qmncOedd8JoNMJiseDjjz/GvHnzYDKZUFtbixdffBG1tbUoLy+HRqNxmefRRx/FmDFjsH79enR/a9e6deuwatUqPPbYY/j+97+Pzz//HM8//zzuueceHD9+3GNXkkTXBEFEXvX2228LAGLPnj1KW1tbm2rcK6+8IgCIw4cPK21r1qwRAMScOXNcxn7yySfC399frFu3zqX9xIkTIiAgQNVOJDu+jEnkg4KDg5U/t7e344svvkBSUhIA4L333lONf/LJJ12OX331VTidTjz22GP44osvlIfJZMKYMWPw9ttvD+wGiHwMX8Yk8kHNzc3Iz8/H7t27lRtYup0/f141PjY21uX45MmTEEJgzJgxPc6v1Wo9t1iiawDDjsgHPfbYYzhy5AiWLVuG+Ph4hIaGwul04v7774fT6VSNv/RKEACcTic0Gg0OHDgAf39/1fjQ0NABWzuRL2LYEfmY//znPygpKUF+fj5Wr16ttJ88ebLXc9x8880QQiA2Nha33nrrQCyT6JrC39kR+ZjuKzHx/3dVdtu8eXOv55g1axb8/f2Rn5+vmkcIoXoLA5HseGVH5GP0ej3uuecebNy4EQ6HA9dffz2Ki4tx6tSpXs9x880345lnnkFubi4++eQTzJw5E8OHD8epU6ewd+9eLFy4ED/+8Y8HcBdEvoVhR+SDdu3ahcWLF6OoqAhCCKSkpODAgQOIjIzs9RwrVqzArbfeik2bNiE/Px8AEBUVhZSUFHzrW98aqKUT+SSNuPw1DiIiIsnwd3ZERCQ9hh0REUmPYUdERNJj2BERkfQYdkREJD23w+6zzz7Dd77zHYwcORLBwcGYMGECjh07pvQLIbB69WqMHj0awcHBSE5OVn3yQ3NzMzIyMqDX62EwGDB//nxcvHix/7shIiLqgVvvs/vPf/6Du+++G9/85jdx4MABjBo1CidPnsSIESOUMRs3bsSWLVvw8ssvIzY2FqtWrUJqairq6uoQFBQEAMjIyMDZs2dhsVjgcDgwb948LFy4ELt27erVOpxOJ86cOYPhw4ervteLiIiGDiEELly4gMjISPj5fcX1mzvfB7R8+XIxZcqUK/Y7nU5hMpnEz3/+c6WtpaVF6HQ68corrwghhKirqxMARGVlpTLmwIEDQqPRiM8++6xX6zh9+rQAwAcffPDBBx8CgDh9+vRX5oZbV3Z//etfkZqaikcffRSlpaW4/vrr8cMf/hALFiwAAJw6dQpWqxXJycnKOWFhYUhMTERZWRlmz56NsrIyGAwGTJo0SRmTnJwMPz8/VFRU4JFHHrnqOoYPHw4AOH36NPR6vTtbcOFwOFBcXIyUlBR+5QlYj56wJmqsiRprojZYNbHZbIiKilJy4UrcCruPP/4YW7duRU5ODn7605+isrISTz31FAIDA5GZmQmr1QoAMBqNLucZjUalz2q1IiIiwnURAQEIDw9XxlzObrfDbrcrxxcuXADw5deaXP7VJu4ICAhASEgIgoOD+QMK1qMnrIkaa6LGmqgNVk0cDgcAXPVXWm6FndPpxKRJk7B+/XoAwB133IGamhps27YNmZmZfVzq1RUWFiqf7Xep4uJihISE9Ht+i8XS7zlkwnqosSZqrIkaa6I20DVpa2vr1Ti3wm706NGIi4tzaRs3bhz+/Oc/AwBMJhMAoLGxEaNHj1bGNDY2Ij4+Xhlz+Tcvd3Z2orm5WTn/crm5ucjJyVGOuy9bU1JS+v0ypsViwfTp0/mvMbAePWFN1FgTNdZEbbBqYrPZejXOrbC7++67UV9f79L2wQcfICYmBgAQGxsLk8mEkpISJdxsNhsqKiqwaNEiAIDZbEZLSwuqqqqQkJAAADh06BCcTicSExN7fF6dTgedTqdq12q1Himip+aRBeuhxpqosSZqrInaQNekt3O7FXZLly7FXXfdhfXr1+Oxxx7D0aNH8eKLL+LFF18E8OVrpkuWLMEzzzyDMWPGKG89iIyMxMyZMwF8eSV4//33Y8GCBdi2bRscDgeys7Mxe/Zst76+hIiIqLfcCrs777wTe/fuRW5uLgoKChAbG4vNmzcjIyNDGfOTn/wEra2tWLhwIVpaWjBlyhQcPHhQeY8dAPz+979HdnY2pk2bBj8/P6Snp2PLli2e2xUREdEl3P7y1gcffBAPPvjgFfs1Gg0KCgpQUFBwxTHh4eG9fgM5ERFRf/GzMYmISHoMOyIikp7bL2PKaHzem7B3ef8zNj/ZkObtJRARSYlXdkREJD2GHRERSY9hR0RE0mPYERGR9Bh2REQkPYYdERFJj2FHRETSY9gREZH0GHZERCQ9hh0REUmPYUdERNJj2BERkfQYdkREJD2GHRERSY9hR0RE0mPYERGR9Bh2REQkPYYdERFJj2FHRETSY9gREZH0GHZERCQ9hh0REUmPYUdERNJj2BERkfTcCru8vDxoNBqXx9ixY5X+9vZ2ZGVlYeTIkQgNDUV6ejoaGxtd5mhoaEBaWhpCQkIQERGBZcuWobOz0zO7ISIi6kGAuyd87Wtfw1tvvfW/CQL+N8XSpUvxxhtvYM+ePQgLC0N2djZmzZqFv//97wCArq4upKWlwWQy4ciRIzh79iy++93vQqvVYv369R7YDhERkZrbYRcQEACTyaRqP3/+PLZv345du3Zh6tSpAIAdO3Zg3LhxKC8vR1JSEoqLi1FXV4e33noLRqMR8fHxWLt2LZYvX468vDwEBgb2f0dERESXcft3didPnkRkZCRuuukmZGRkoKGhAQBQVVUFh8OB5ORkZezYsWMRHR2NsrIyAEBZWRkmTJgAo9GojElNTYXNZkNtbW1/90JERNQjt67sEhMTsXPnTtx22204e/Ys8vPz8Y1vfAM1NTWwWq0IDAyEwWBwOcdoNMJqtQIArFarS9B193f3XYndbofdbleObTYbAMDhcMDhcLizBRfd5+r8RJ/n8KT+7MWTz+/tdfgS1kSNNVFjTdQGqya9nd+tsJsxY4by54kTJyIxMRExMTH44x//iODgYPdW6IbCwkLk5+er2ouLixESEtLv+ddOcvZ7Dk/Yv3+/t5cAALBYLN5egs9hTdRYEzXWRG2ga9LW1tarcW7/zu5SBoMBt956Kz788ENMnz4dHR0daGlpcbm6a2xsVH7HZzKZcPToUZc5uu/W7On3gN1yc3ORk5OjHNtsNkRFRSElJQV6vb7P63c4HLBYLFh1zA92p6bP83hKTV6qV5+/ux7Tp0+HVqv16lp8BWuixpqosSZqg1WT7lf6rqZfYXfx4kV89NFHmDt3LhISEqDValFSUoL09HQAQH19PRoaGmA2mwEAZrMZ69atQ1NTEyIiIgB8mfp6vR5xcXFXfB6dTgedTqdq12q1Himi3amBvcv7Yecrf0k8VVeZsCZqrIkaa6I20DXp7dxuhd2Pf/xjPPTQQ4iJicGZM2ewZs0a+Pv7Y86cOQgLC8P8+fORk5OD8PBw6PV6LF68GGazGUlJSQCAlJQUxMXFYe7cudi4cSOsVitWrlyJrKysHsOMiIjIE9wKu3//+9+YM2cOzp07h1GjRmHKlCkoLy/HqFGjAACbNm2Cn58f0tPTYbfbkZqaihdeeEE539/fH/v27cOiRYtgNpsxbNgwZGZmoqCgwLO7IiIiuoRbYbd79+6v7A8KCkJRURGKioquOCYmJsZnbsQgIqKhgZ+NSURE0mPYERGR9Bh2REQkPYYdERFJj2FHRETSY9gREZH0GHZERCQ9hh0REUmPYUdERNJj2BERkfQYdkREJD2GHRERSY9hR0RE0mPYERGR9Bh2REQkPYYdERFJj2FHRETSY9gREZH0GHZERCQ9hh0REUmPYUdERNJj2BERkfQYdkREJD2GHRERSY9hR0RE0mPYERGR9Bh2REQkvX6F3YYNG6DRaLBkyRKlrb29HVlZWRg5ciRCQ0ORnp6OxsZGl/MaGhqQlpaGkJAQREREYNmyZejs7OzPUoiIiK6oz2FXWVmJX/3qV5g4caJL+9KlS/H6669jz549KC0txZkzZzBr1iylv6urC2lpaejo6MCRI0fw8ssvY+fOnVi9enXfd0FERPQV+hR2Fy9eREZGBl566SWMGDFCaT9//jy2b9+OZ599FlOnTkVCQgJ27NiBI0eOoLy8HABQXFyMuro6/O53v0N8fDxmzJiBtWvXoqioCB0dHZ7ZFRER0SX6FHZZWVlIS0tDcnKyS3tVVRUcDodL+9ixYxEdHY2ysjIAQFlZGSZMmACj0aiMSU1Nhc1mQ21tbV+WQ0RE9JUC3D1h9+7deO+991BZWanqs1qtCAwMhMFgcGk3Go2wWq3KmEuDrru/u68ndrsddrtdObbZbAAAh8MBh8Ph7hYU3efq/ESf5/Ck/uzFk8/v7XX4EtZEjTVRY03UBqsmvZ3frbA7ffo0nn76aVgsFgQFBfVpYX1RWFiI/Px8VXtxcTFCQkL6Pf/aSc5+z+EJ+/fv9/YSAAAWi8XbS/A5rIkaa6LGmqgNdE3a2tp6Nc6tsKuqqkJTUxO+/vWvK21dXV04fPgwfvnLX+LNN99ER0cHWlpaXK7uGhsbYTKZAAAmkwlHjx51mbf7bs3uMZfLzc1FTk6Ocmyz2RAVFYWUlBTo9Xp3tuDC4XDAYrFg1TE/2J2aPs/jKTV5qV59/u56TJ8+HVqt1qtr8RWsiRprosaaqA1WTbpf6bsat8Ju2rRpOHHihEvbvHnzMHbsWCxfvhxRUVHQarUoKSlBeno6AKC+vh4NDQ0wm80AALPZjHXr1qGpqQkREREAvkx+vV6PuLi4Hp9Xp9NBp9Op2rVarUeKaHdqYO/yftj5yl8ST9VVJqyJGmuixpqoDXRNeju3W2E3fPhwjB8/3qVt2LBhGDlypNI+f/585OTkIDw8HHq9HosXL4bZbEZSUhIAICUlBXFxcZg7dy42btwIq9WKlStXIisrq8dAIyIi6i+3b1C5mk2bNsHPzw/p6emw2+1ITU3FCy+8oPT7+/tj3759WLRoEcxmM4YNG4bMzEwUFBR4eilEREQAPBB277zzjstxUFAQioqKUFRUdMVzYmJifOZmDCIikh8/G5OIiKTHsCMiIukx7IiISHoMOyIikh7DjoiIpMewIyIi6THsiIhIegw7IiKSHsOOiIikx7AjIiLpMeyIiEh6DDsiIpIew46IiKTHsCMiIukx7IiISHoMOyIikh7DjoiIpMewIyIi6THsiIhIegw7IiKSHsOOiIikx7AjIiLpMeyIiEh6DDsiIpIew46IiKTHsCMiIukx7IiISHpuhd3WrVsxceJE6PV66PV6mM1mHDhwQOlvb29HVlYWRo4cidDQUKSnp6OxsdFljoaGBqSlpSEkJAQRERFYtmwZOjs7PbMbIiKiHrgVdjfccAM2bNiAqqoqHDt2DFOnTsXDDz+M2tpaAMDSpUvx+uuvY8+ePSgtLcWZM2cwa9Ys5fyuri6kpaWho6MDR44cwcsvv4ydO3di9erVnt0VERHRJQLcGfzQQw+5HK9btw5bt25FeXk5brjhBmzfvh27du3C1KlTAQA7duzAuHHjUF5ejqSkJBQXF6Ourg5vvfUWjEYj4uPjsXbtWixfvhx5eXkIDAz03M6IiIj+X59/Z9fV1YXdu3ejtbUVZrMZVVVVcDgcSE5OVsaMHTsW0dHRKCsrAwCUlZVhwoQJMBqNypjU1FTYbDbl6pCIiMjT3LqyA4ATJ07AbDajvb0doaGh2Lt3L+Li4lBdXY3AwEAYDAaX8UajEVarFQBgtVpdgq67v7vvSux2O+x2u3Jss9kAAA6HAw6Hw90tKLrP1fmJPs/hSf3Ziyef39vr8CWsiRprosaaqA1WTXo7v9thd9ttt6G6uhrnz5/Hn/70J2RmZqK0tNTtBbqjsLAQ+fn5qvbi4mKEhIT0e/61k5z9nsMT9u/f7+0lAAAsFou3l+BzWBM11kSNNVEb6Jq0tbX1apzbYRcYGIhbbrkFAJCQkIDKyko899xzePzxx9HR0YGWlhaXq7vGxkaYTCYAgMlkwtGjR13m675bs3tMT3Jzc5GTk6Mc22w2REVFISUlBXq93t0tKBwOBywWC1Yd84PdqenzPJ5Sk5fq1efvrsf06dOh1Wq9uhZfwZqosSZqrInaYNWk+5W+q3E77C7ndDpht9uRkJAArVaLkpISpKenAwDq6+vR0NAAs9kMADCbzVi3bh2ampoQEREB4MvU1+v1iIuLu+Jz6HQ66HQ6VbtWq/VIEe1ODexd3g87X/lL4qm6yoQ1UWNN1FgTtYGuSW/ndivscnNzMWPGDERHR+PChQvYtWsX3nnnHbz55psICwvD/PnzkZOTg/DwcOj1eixevBhmsxlJSUkAgJSUFMTFxWHu3LnYuHEjrFYrVq5ciaysrB7DjIiIyBPcCrumpiZ897vfxdmzZxEWFoaJEyfizTffxPTp0wEAmzZtgp+fH9LT02G325GamooXXnhBOd/f3x/79u3DokWLYDabMWzYMGRmZqKgoMCzuyIiIrqEW2G3ffv2r+wPCgpCUVERioqKrjgmJibGZ27EICKioYGfjUlERNJj2BERkfQYdkREJD2GHRERSY9hR0RE0mPYERGR9Bh2REQkPYYdERFJj2FHRETSY9gREZH0GHZERCQ9hh0REUmPYUdERNJj2BERkfQYdkREJD2GHRERSY9hR0RE0mPYERGR9Bh2REQkPYYdERFJj2FHRETSY9gREZH0GHZERCQ9hh0REUmPYUdERNJj2BERkfQYdkREJD2GHRERSc+tsCssLMSdd96J4cOHIyIiAjNnzkR9fb3LmPb2dmRlZWHkyJEIDQ1Feno6GhsbXcY0NDQgLS0NISEhiIiIwLJly9DZ2dn/3RAREfXArbArLS1FVlYWysvLYbFY4HA4kJKSgtbWVmXM0qVL8frrr2PPnj0oLS3FmTNnMGvWLKW/q6sLaWlp6OjowJEjR/Dyyy9j586dWL16ted2RUREdIkAdwYfPHjQ5Xjnzp2IiIhAVVUV7rnnHpw/fx7bt2/Hrl27MHXqVADAjh07MG7cOJSXlyMpKQnFxcWoq6vDW2+9BaPRiPj4eKxduxbLly9HXl4eAgMDPbc7IiIiuBl2lzt//jwAIDw8HABQVVUFh8OB5ORkZczYsWMRHR2NsrIyJCUloaysDBMmTIDRaFTGpKamYtGiRaitrcUdd9yheh673Q673a4c22w2AIDD4YDD4ejz+rvP1fmJPs/hSf3Ziyef39vr8CWsiRprosaaqA1WTXo7f5/Dzul0YsmSJbj77rsxfvx4AIDVakVgYCAMBoPLWKPRCKvVqoy5NOi6+7v7elJYWIj8/HxVe3FxMUJCQvq6BcXaSc5+z+EJ+/fv9/YSAAAWi8XbS/A5rIkaa6LGmqgNdE3a2tp6Na7PYZeVlYWamhq8++67fZ2i13Jzc5GTk6Mc22w2REVFISUlBXq9vs/zOhwOWCwWrDrmB7tT44ml9ktNXqpXn7+7HtOnT4dWq/XqWnwFa6LGmqixJmqDVZPuV/qupk9hl52djX379uHw4cO44YYblHaTyYSOjg60tLS4XN01NjbCZDIpY44ePeoyX/fdmt1jLqfT6aDT6VTtWq3WI0W0OzWwd3k/7HzlL4mn6ioT1kSNNVFjTdQGuia9ndutuzGFEMjOzsbevXtx6NAhxMbGuvQnJCRAq9WipKREaauvr0dDQwPMZjMAwGw248SJE2hqalLGWCwW6PV6xMXFubMcIiKiXnHryi4rKwu7du3CX/7yFwwfPlz5HVtYWBiCg4MRFhaG+fPnIycnB+Hh4dDr9Vi8eDHMZjOSkpIAACkpKYiLi8PcuXOxceNGWK1WrFy5EllZWT1evREREfWXW2G3detWAMB9993n0r5jxw488cQTAIBNmzbBz88P6enpsNvtSE1NxQsvvKCM9ff3x759+7Bo0SKYzWYMGzYMmZmZKCgo6N9OiIiIrsCtsBPi6rfoBwUFoaioCEVFRVccExMT4zN3HhIRkfz42ZhERCQ9hh0REUmPYUdERNJj2BERkfQYdkREJD2GHRERSY9hR0RE0mPYERGR9Bh2REQkPYYdERFJj2FHRETSY9gREZH0GHZERCQ9hh0REUmPYUdERNJj2BERkfQYdkREJD2GHRERSY9hR0RE0mPYERGR9Bh2REQkPYYdERFJj2FHRETSY9gREZH0GHZERCQ9hh0REUmPYUdERNJzO+wOHz6Mhx56CJGRkdBoNHjttddc+oUQWL16NUaPHo3g4GAkJyfj5MmTLmOam5uRkZEBvV4Pg8GA+fPn4+LFi/3aCBER0ZW4HXatra24/fbbUVRU1GP/xo0bsWXLFmzbtg0VFRUYNmwYUlNT0d7erozJyMhAbW0tLBYL9u3bh8OHD2PhwoV93wUREdFXCHD3hBkzZmDGjBk99gkhsHnzZqxcuRIPP/wwAOC3v/0tjEYjXnvtNcyePRv//Oc/cfDgQVRWVmLSpEkAgOeffx4PPPAAfvGLXyAyMrIf2yEiIlJzO+y+yqlTp2C1WpGcnKy0hYWFITExEWVlZZg9ezbKyspgMBiUoAOA5ORk+Pn5oaKiAo888ohqXrvdDrvdrhzbbDYAgMPhgMPh6PN6u8/V+Yk+z+FJ/dmLJ5/f2+vwJayJGmuixpqoDVZNeju/R8POarUCAIxGo0u70WhU+qxWKyIiIlwXERCA8PBwZczlCgsLkZ+fr2ovLi5GSEhIv9e9dpKz33N4wv79+729BACAxWLx9hJ8DmuixpqosSZqA12Ttra2Xo3zaNgNlNzcXOTk5CjHNpsNUVFRSElJgV6v7/O8DocDFosFq475we7UeGKp/VKTl+rV5++ux/Tp06HVar26Fl/BmqixJmqsidpg1aT7lb6r8WjYmUwmAEBjYyNGjx6ttDc2NiI+Pl4Z09TU5HJeZ2cnmpublfMvp9PpoNPpVO1ardYjRbQ7NbB3eT/sfOUviafqKhPWRI01UWNN1Aa6Jr2d26Pvs4uNjYXJZEJJSYnSZrPZUFFRAbPZDAAwm81oaWlBVVWVMubQoUNwOp1ITEz05HKIiIgA9OHK7uLFi/jwww+V41OnTqG6uhrh4eGIjo7GkiVL8Mwzz2DMmDGIjY3FqlWrEBkZiZkzZwIAxo0bh/vvvx8LFizAtm3b4HA4kJ2djdmzZ/NOTCIiGhBuh92xY8fwzW9+Uznu/l1aZmYmdu7ciZ/85CdobW3FwoUL0dLSgilTpuDgwYMICgpSzvn973+P7OxsTJs2DX5+fkhPT8eWLVs8sJ1r240r3vDq8+v8BTZOBsbnvYn6dQ96dS1ERJ7kdtjdd999EOLKt+prNBoUFBSgoKDgimPCw8Oxa9cud5+aiIioT/jZmEREJD2GHRERSY9hR0RE0mPYERGR9Bh2REQkPYYdERFJj2FHRETSY9gREZH0GHZERCQ9hh0REUmPYUdERNJj2BERkfQYdkREJD2GHRERSY9hR0RE0mPYERGR9Bh2REQkPYYdERFJj2FHRETSY9gREZH0GHZERCS9AG8vgHzTjSve8PYSFJ9sSPP2EojoGscrOyIikh7DjoiIpMewIyIi6THsiIhIegw7IiKSntfCrqioCDfeeCOCgoKQmJiIo0ePemspREQkOa+89eAPf/gDcnJysG3bNiQmJmLz5s1ITU1FfX09IiIivLEkol7j2zKIrj1eCbtnn30WCxYswLx58wAA27ZtwxtvvIHf/OY3WLFihTeWRHRN8kbw6vwFNk4Gxue9CXuXRmln8JIvG/Sw6+joQFVVFXJzc5U2Pz8/JCcno6ysrMdz7HY77Ha7cnz+/HkAQHNzMxwOR5/X4nA40NbWhgCHH7qcmqufILkAp0Bbm9Pn6nHu3DmvPXf3z8i5c+eg1WoBAAGdrV5bjy+40s+JN/87eVtPPye+KrGwZFCeR+cnsPIOJ+J/9irsV/j/SUXutH4/z4ULFwAAQoivHigG2WeffSYAiCNHjri0L1u2TEyePLnHc9asWSMA8MEHH3zwwUePj9OnT39l9lwTHxeWm5uLnJwc5djpdKK5uRkjR46ERtP3KxCbzYaoqCicPn0aer3eE0u9prEeaqyJGmuixpqoDVZNhBC4cOECIiMjv3LcoIfdddddB39/fzQ2Nrq0NzY2wmQy9XiOTqeDTqdzaTMYDB5bk16v5w/oJVgPNdZEjTVRY03UBqMmYWFhVx0z6G89CAwMREJCAkpK/ve6sdPpRElJCcxm82Avh4iIhgCvvIyZk5ODzMxMTJo0CZMnT8bmzZvR2tqq3J1JRETkSV4Ju8cffxyff/45Vq9eDavVivj4eBw8eBBGo3FQ16HT6bBmzRrVS6RDFeuhxpqosSZqrImar9VEI8TV7tckIiK6tvGzMYmISHoMOyIikh7DjoiIpMewIyIi6Q3ZsBtKXzF0+PBhPPTQQ4iMjIRGo8Frr73m0i+EwOrVqzF69GgEBwcjOTkZJ0+edBnT3NyMjIwM6PV6GAwGzJ8/HxcvXhzEXXhOYWEh7rzzTgwfPhwRERGYOXMm6uvrXca0t7cjKysLI0eORGhoKNLT01UfhNDQ0IC0tDSEhIQgIiICy5YtQ2dn52BuxWO2bt2KiRMnKm8ANpvNOHDggNI/1OpxuQ0bNkCj0WDJkiVK21CrSV5eHjQajctj7NixSr/P18MjH3h5jdm9e7cIDAwUv/nNb0Rtba1YsGCBMBgMorGx0dtLGxD79+8XP/vZz8Srr74qAIi9e/e69G/YsEGEhYWJ1157TfzjH/8Q3/rWt0RsbKz473//q4y5//77xe233y7Ky8vF3/72N3HLLbeIOXPmDPJOPCM1NVXs2LFD1NTUiOrqavHAAw+I6OhocfHiRWXMk08+KaKiokRJSYk4duyYSEpKEnfddZfS39nZKcaPHy+Sk5PF8ePHxf79+8V1110ncnNzvbGlfvvrX/8q3njjDfHBBx+I+vp68dOf/lRotVpRU1MjhBh69bjU0aNHxY033igmTpwonn76aaV9qNVkzZo14mtf+5o4e/as8vj888+Vfl+vx5AMu8mTJ4usrCzluKurS0RGRorCwkIvrmpwXB52TqdTmEwm8fOf/1xpa2lpETqdTrzyyitCCCHq6uoEAFFZWamMOXDggNBoNOKzzz4btLUPlKamJgFAlJaWCiG+3L9WqxV79uxRxvzzn/8UAERZWZkQ4st/QPj5+Qmr1aqM2bp1q9Dr9cJutw/uBgbIiBEjxK9//eshXY8LFy6IMWPGCIvFIu69914l7IZiTdasWSNuv/32HvuuhXoMuZcxu79iKDk5WWm72lcMyezUqVOwWq0u9QgLC0NiYqJSj7KyMhgMBkyaNEkZk5ycDD8/P1RUVAz6mj2t+yujwsPDAQBVVVVwOBwuNRk7diyio6NdajJhwgSXD0JITU2FzWZDbW3tIK7e87q6urB79260trbCbDYP6XpkZWUhLS3NZe/A0P0ZOXnyJCIjI3HTTTchIyMDDQ0NAK6NelwT33rgSV988QW6urpUn9ZiNBrxr3/9y0ur8h6r1QoAPdaju89qtaq+QT4gIADh4eHKmGuV0+nEkiVLcPfdd2P8+PEAvtxvYGCg6sPGL69JTzXr7rsWnThxAmazGe3t7QgNDcXevXsRFxeH6urqIVmP3bt347333kNlZaWqbyj+jCQmJmLnzp247bbbcPbsWeTn5+Mb3/gGampqrol6DLmwI7pUVlYWampq8O6773p7KV532223obq6GufPn8ef/vQnZGZmorS01NvL8orTp0/j6aefhsViQVBQkLeX4xNmzJih/HnixIlITExETEwM/vjHPyI4ONiLK+udIfcyZl++Ykhm3Xv+qnqYTCY0NTW59Hd2dqK5ufmarll2djb27duHt99+GzfccIPSbjKZ0NHRgZaWFpfxl9ekp5p1912LAgMDccsttyAhIQGFhYW4/fbb8dxzzw3JelRVVaGpqQlf//rXERAQgICAAJSWlmLLli0ICAiA0WgccjW5nMFgwK233ooPP/zwmvgZGXJhx68YchUbGwuTyeRSD5vNhoqKCqUeZrMZLS0tqKqqUsYcOnQITqcTiYmJg77m/hJCIDs7G3v37sWhQ4cQGxvr0p+QkACtVutSk/r6ejQ0NLjU5MSJEy7/CLBYLNDr9YiLixucjQwwp9MJu90+JOsxbdo0nDhxAtXV1cpj0qRJyMjIUP481GpyuYsXL+Kjjz7C6NGjr42fkQG/BcYH7d69W+h0OrFz505RV1cnFi5cKAwGg8tdQjK5cOGCOH78uDh+/LgAIJ599llx/Phx8emnnwohvnzrgcFgEH/5y1/E+++/Lx5++OEe33pwxx13iIqKCvHuu++KMWPGXLNvPVi0aJEICwsT77zzjstt1G1tbcqYJ598UkRHR4tDhw6JY8eOCbPZLMxms9LffRt1SkqKqK6uFgcPHhSjRo26Zm8rX7FihSgtLRWnTp0S77//vlixYoXQaDSiuLhYCDH06tGTS+/GFGLo1eRHP/qReOedd8SpU6fE3//+d5GcnCyuu+460dTUJITw/XoMybATQojnn39eREdHi8DAQDF58mRRXl7u7SUNmLffflsAUD0yMzOFEF++/WDVqlXCaDQKnU4npk2bJurr613mOHfunJgzZ44IDQ0Ver1ezJs3T1y4cMELu+m/nmoBQOzYsUMZ89///lf88Ic/FCNGjBAhISHikUceEWfPnnWZ55NPPhEzZswQwcHB4rrrrhM/+tGPhMPhGOTdeMb3vvc9ERMTIwIDA8WoUaPEtGnTlKATYujVoyeXh91Qq8njjz8uRo8eLQIDA8X1118vHn/8cfHhhx8q/b5eD37FDxERSW/I/c6OiIiGHoYdERFJj2FHRETSY9gREZH0GHZERCQ9hh0REUmPYUdERNJj2BERkfQYdkREJD2GHRERSY9hR0RE0mPYERGR9P4POXdK1Hb68B8AAAAASUVORK5CYII=",
      "text/plain": [
       "<Figure size 500x300 with 1 Axes>"
      ]
>>>>>>> e198716c0deb7fd5e3cbf67d5fd813336fd75956
     },
     "output_type": "display_data"
    }
   ],
   "source": [
    "fig, ax = plt.subplots(figsize=(5,3))\n",
    "df.hist(column=colunas_numericas[0], ax=ax);"
   ]
  },
  {
   "cell_type": "code",
<<<<<<< HEAD
   "execution_count": 28,
=======
   "execution_count": 33,
>>>>>>> e198716c0deb7fd5e3cbf67d5fd813336fd75956
   "metadata": {},
   "outputs": [
    {
     "data": {
<<<<<<< HEAD
      "image/png": "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",
      "text/plain": [
       "<Figure size 360x864 with 6 Axes>"
=======
      "image/png": "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",
      "text/plain": [
       "<Figure size 500x1200 with 4 Axes>"
>>>>>>> e198716c0deb7fd5e3cbf67d5fd813336fd75956
      ]
     },
     "metadata": {
      "needs_background": "light"
     },
     "output_type": "display_data"
    }
   ],
   "source": [
    "fig, ax = plt.subplots(nrows=len(colunas_numericas), figsize=(5, 12))\n",
    "for i in range(len(colunas_numericas)):\n",
    "    df.hist(column=colunas_numericas[i], ax=ax[i])\n",
    "plt.tight_layout()"
   ]
  },
  {
   "attachments": {},
   "cell_type": "markdown",
   "metadata": {},
   "source": [
    "A figura anterior mostra apenas uma visualização geral das colunas da tabela. Essa é uma apenas uma visualização geral. Vamos fazer alguns filtros para entender melhor os dados."
   ]
  },
  {
   "cell_type": "code",
   "execution_count": 37,
   "metadata": {},
   "outputs": [],
   "source": [
    "df_group = df.groupby(by='alive')"
   ]
  },
  {
   "cell_type": "code",
   "execution_count": 62,
   "metadata": {},
   "outputs": [
    {
     "data": {
      "image/png": "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",
      "text/plain": [
       "<Figure size 640x480 with 2 Axes>"
      ]
     },
     "metadata": {},
     "output_type": "display_data"
    }
   ],
   "source": [
    "sobreviventes = df[df['alive']=='yes']\n",
    "nao_sobreviventes = df[df['alive']=='no']\n",
    "contagem_s = sobreviventes['sex'].value_counts()\n",
    "contagem_ns = nao_sobreviventes['sex'].value_counts()\n",
    "fig, ax = plt.subplots(ncols=2)\n",
    "ax[0].bar(contagem_s.index, contagem_s.values,color ='green')\n",
    "ax[0].set_title(\"Sobreviventes\")\n",
    "ax[1].bar(contagem_ns.index, contagem_ns.values, color ='grey')\n",
    "ax[1].set_title(\"Não sobreviventes\");"
   ]
  },
  {
   "cell_type": "code",
   "execution_count": 69,
   "metadata": {},
   "outputs": [
    {
     "data": {
      "image/png": "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",
      "text/plain": [
       "<Figure size 640x480 with 2 Axes>"
      ]
     },
     "metadata": {},
     "output_type": "display_data"
    }
   ],
   "source": [
    "contagem_s = sobreviventes['who'].value_counts()\n",
    "contagem_ns = nao_sobreviventes['who'].value_counts()\n",
    "fig, ax = plt.subplots(ncols=2)\n",
    "ax[0].bar(contagem_s.index, contagem_s.values,color ='green')\n",
    "ax[0].set_title(\"Sobreviventes\")\n",
    "ax[1].bar(contagem_ns.index, contagem_ns.values, color ='grey')\n",
    "ax[1].set_title(\"Não sobreviventes\");"
   ]
  },
  {
   "cell_type": "code",
   "execution_count": 73,
   "metadata": {},
   "outputs": [
    {
     "data": {
      "image/png": "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",
      "text/plain": [
       "<Figure size 640x480 with 2 Axes>"
      ]
     },
     "metadata": {},
     "output_type": "display_data"
    }
   ],
   "source": [
    "classe_s = sobreviventes['class'].value_counts()\n",
    "classe_ns = nao_sobreviventes['class'].value_counts()\n",
    "fig, ax = plt.subplots(ncols=2)\n",
    "ax[0].bar(classe_s.index, classe_s.values,color ='green')\n",
    "ax[0].set_title(\"Sobreviventes\")\n",
    "ax[1].bar(classe_ns.index, classe_ns.values, color ='grey')\n",
    "ax[1].set_title(\"Não sobreviventes\");"
   ]
  },
  {
   "cell_type": "code",
   "execution_count": null,
   "metadata": {},
   "outputs": [],
   "source": []
  },
  {
   "cell_type": "code",
   "execution_count": 89,
   "metadata": {},
   "outputs": [
    {
     "data": {
      "image/png": "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",
      "text/plain": [
       "<Figure size 1000x500 with 2 Axes>"
      ]
     },
     "metadata": {},
     "output_type": "display_data"
    }
   ],
   "source": [
    "contagem_s = sobreviventes['embark_town'].value_counts()\n",
    "contagem_ns = nao_sobreviventes['embark_town'].value_counts()\n",
    "fig, ax = plt.subplots(ncols=2, figsize=(10, 5))\n",
    "cidades = list(contagem_s.index)\n",
    "ax[0].bar(contagem_s.index, contagem_s.values,color ='green')\n",
    "ax[0].set_title(\"Sobreviventes\")\n",
    "# ax[0].set_xticklabels(cidades, rotation=15)\n",
    "ax[1].bar(contagem_ns.index, contagem_ns.values, color ='grey')\n",
    "ax[1].set_title(\"Não sobreviventes\")\n",
    "# ax[1].set_xticklabels(cidades, rotation=15)\n",
    "plt.show()"
   ]
  },
  {
   "cell_type": "code",
   "execution_count": null,
   "metadata": {},
   "outputs": [],
   "source": []
  }
 ],
 "metadata": {
  "kernelspec": {
   "display_name": "gans_timeseries",
   "language": "python",
   "name": "python3"
  },
  "language_info": {
   "codemirror_mode": {
    "name": "ipython",
    "version": 3
   },
   "file_extension": ".py",
   "mimetype": "text/x-python",
   "name": "python",
   "nbconvert_exporter": "python",
   "pygments_lexer": "ipython3",
   "version": "3.10.6"
  },
  "orig_nbformat": 4,
  "vscode": {
   "interpreter": {
    "hash": "f9d7fcf1c9ad21d2a48e092267afddc1348f5e14268e22a300ef52978903adfb"
   }
  }
 },
 "nbformat": 4,
 "nbformat_minor": 2
}
